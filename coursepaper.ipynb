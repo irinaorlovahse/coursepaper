{
 "cells": [
  {
   "cell_type": "markdown",
   "id": "e5ea6966",
   "metadata": {},
   "source": [
    "## Код для статистических вычислений по курсовой работе \"Языковые факторы, влияющие на ошибки в написании глаголов на –тся и –ться\" Орловой Ирины Альбертовны"
   ]
  },
  {
   "cell_type": "code",
   "execution_count": 1,
   "id": "07dd6415",
   "metadata": {},
   "outputs": [],
   "source": [
    "import numpy as np\n",
    "import pandas as pd\n",
    "import scipy.stats"
   ]
  },
  {
   "cell_type": "code",
   "execution_count": 2,
   "id": "9175af74",
   "metadata": {},
   "outputs": [
    {
     "data": {
      "text/html": [
       "<div>\n",
       "<style scoped>\n",
       "    .dataframe tbody tr th:only-of-type {\n",
       "        vertical-align: middle;\n",
       "    }\n",
       "\n",
       "    .dataframe tbody tr th {\n",
       "        vertical-align: top;\n",
       "    }\n",
       "\n",
       "    .dataframe thead th {\n",
       "        text-align: right;\n",
       "    }\n",
       "</style>\n",
       "<table border=\"1\" class=\"dataframe\">\n",
       "  <thead>\n",
       "    <tr style=\"text-align: right;\">\n",
       "      <th></th>\n",
       "      <th>Предложение</th>\n",
       "      <th>Ошибка</th>\n",
       "      <th>Глагол</th>\n",
       "      <th>Нужная форма</th>\n",
       "      <th>Число</th>\n",
       "      <th>Омофоничность инфинитива и формы третьего лица</th>\n",
       "      <th>Омографичность инфинитива и формы третьего лица</th>\n",
       "      <th>Наличие ГС</th>\n",
       "      <th>ГС</th>\n",
       "      <th>Расстояние между глаголом и ГС</th>\n",
       "      <th>Позиция глагола по отношению к ГС</th>\n",
       "      <th>Синтаксическая роль ГС в предложении</th>\n",
       "    </tr>\n",
       "  </thead>\n",
       "  <tbody>\n",
       "    <tr>\n",
       "      <th>0</th>\n",
       "      <td>Вам за это беспокоится не надо!</td>\n",
       "      <td>есть</td>\n",
       "      <td>беспокоиться</td>\n",
       "      <td>нефинитная</td>\n",
       "      <td>-</td>\n",
       "      <td>да</td>\n",
       "      <td>да</td>\n",
       "      <td>есть</td>\n",
       "      <td>надо</td>\n",
       "      <td>1</td>\n",
       "      <td>препозиция</td>\n",
       "      <td>сказуемое (категория состояния)</td>\n",
       "    </tr>\n",
       "    <tr>\n",
       "      <th>1</th>\n",
       "      <td>Поэтому очень важно не боятся ошибаться, риско...</td>\n",
       "      <td>есть</td>\n",
       "      <td>бояться</td>\n",
       "      <td>нефинитная</td>\n",
       "      <td>-</td>\n",
       "      <td>да</td>\n",
       "      <td>да</td>\n",
       "      <td>есть</td>\n",
       "      <td>важно</td>\n",
       "      <td>1</td>\n",
       "      <td>постпозиция</td>\n",
       "      <td>сказуемое (категория состояния)</td>\n",
       "    </tr>\n",
       "    <tr>\n",
       "      <th>2</th>\n",
       "      <td>Повторюсь, доллар может вернутся выше 70, в од...</td>\n",
       "      <td>есть</td>\n",
       "      <td>вернуться</td>\n",
       "      <td>нефинитная</td>\n",
       "      <td>-</td>\n",
       "      <td>да</td>\n",
       "      <td>да</td>\n",
       "      <td>есть</td>\n",
       "      <td>может</td>\n",
       "      <td>0</td>\n",
       "      <td>постпозиция</td>\n",
       "      <td>сказуемое (финитный глагол)</td>\n",
       "    </tr>\n",
       "    <tr>\n",
       "      <th>3</th>\n",
       "      <td>Еще тысячи остались инвалидами, но это поколен...</td>\n",
       "      <td>есть</td>\n",
       "      <td>вернуться</td>\n",
       "      <td>нефинитная</td>\n",
       "      <td>-</td>\n",
       "      <td>да</td>\n",
       "      <td>да</td>\n",
       "      <td>есть</td>\n",
       "      <td>силы</td>\n",
       "      <td>2</td>\n",
       "      <td>постпозиция</td>\n",
       "      <td>дополнение</td>\n",
       "    </tr>\n",
       "    <tr>\n",
       "      <th>4</th>\n",
       "      <td>Вместо звонков по мобилам будем как раньше дог...</td>\n",
       "      <td>есть</td>\n",
       "      <td>встретиться</td>\n",
       "      <td>нефинитная</td>\n",
       "      <td>-</td>\n",
       "      <td>да</td>\n",
       "      <td>да</td>\n",
       "      <td>есть</td>\n",
       "      <td>будем</td>\n",
       "      <td>2</td>\n",
       "      <td>постпозиция</td>\n",
       "      <td>сказуемое (финитный глагол)</td>\n",
       "    </tr>\n",
       "    <tr>\n",
       "      <th>...</th>\n",
       "      <td>...</td>\n",
       "      <td>...</td>\n",
       "      <td>...</td>\n",
       "      <td>...</td>\n",
       "      <td>...</td>\n",
       "      <td>...</td>\n",
       "      <td>...</td>\n",
       "      <td>...</td>\n",
       "      <td>...</td>\n",
       "      <td>...</td>\n",
       "      <td>...</td>\n",
       "      <td>...</td>\n",
       "    </tr>\n",
       "    <tr>\n",
       "      <th>499</th>\n",
       "      <td>Получается, что если стараться запомнить как м...</td>\n",
       "      <td>нет</td>\n",
       "      <td>потребоваться</td>\n",
       "      <td>финитная</td>\n",
       "      <td>ед</td>\n",
       "      <td>нет</td>\n",
       "      <td>нет</td>\n",
       "      <td>нет</td>\n",
       "      <td>-</td>\n",
       "      <td>-</td>\n",
       "      <td>-</td>\n",
       "      <td>-</td>\n",
       "    </tr>\n",
       "    <tr>\n",
       "      <th>500</th>\n",
       "      <td>На мой взгляд, это связано с особенностью восп...</td>\n",
       "      <td>нет</td>\n",
       "      <td>требоваться</td>\n",
       "      <td>финитная</td>\n",
       "      <td>ед</td>\n",
       "      <td>нет</td>\n",
       "      <td>нет</td>\n",
       "      <td>нет</td>\n",
       "      <td>-</td>\n",
       "      <td>-</td>\n",
       "      <td>-</td>\n",
       "      <td>-</td>\n",
       "    </tr>\n",
       "    <tr>\n",
       "      <th>501</th>\n",
       "      <td>В сети в последнее время стало появляться мног...</td>\n",
       "      <td>нет</td>\n",
       "      <td>являться</td>\n",
       "      <td>финитная</td>\n",
       "      <td>мн</td>\n",
       "      <td>нет</td>\n",
       "      <td>нет</td>\n",
       "      <td>есть</td>\n",
       "      <td>которые</td>\n",
       "      <td>0</td>\n",
       "      <td>постпозиция</td>\n",
       "      <td>-</td>\n",
       "    </tr>\n",
       "    <tr>\n",
       "      <th>502</th>\n",
       "      <td>Человеку приходится запоминать огромное количе...</td>\n",
       "      <td>нет</td>\n",
       "      <td>приходиться</td>\n",
       "      <td>финитная</td>\n",
       "      <td>ед</td>\n",
       "      <td>нет</td>\n",
       "      <td>да</td>\n",
       "      <td>нет</td>\n",
       "      <td>-</td>\n",
       "      <td>-</td>\n",
       "      <td>-</td>\n",
       "      <td>-</td>\n",
       "    </tr>\n",
       "    <tr>\n",
       "      <th>503</th>\n",
       "      <td>Через некоторое время выученные наборы символо...</td>\n",
       "      <td>нет</td>\n",
       "      <td>стираться</td>\n",
       "      <td>финитная</td>\n",
       "      <td>мн</td>\n",
       "      <td>нет</td>\n",
       "      <td>нет</td>\n",
       "      <td>есть</td>\n",
       "      <td>наборы</td>\n",
       "      <td>1</td>\n",
       "      <td>постпозиция</td>\n",
       "      <td>подлежащее</td>\n",
       "    </tr>\n",
       "  </tbody>\n",
       "</table>\n",
       "<p>504 rows × 12 columns</p>\n",
       "</div>"
      ],
      "text/plain": [
       "                                           Предложение Ошибка         Глагол   \n",
       "0                      Вам за это беспокоится не надо!   есть   беспокоиться  \\\n",
       "1    Поэтому очень важно не боятся ошибаться, риско...   есть        бояться   \n",
       "2    Повторюсь, доллар может вернутся выше 70, в од...   есть      вернуться   \n",
       "3    Еще тысячи остались инвалидами, но это поколен...   есть      вернуться   \n",
       "4    Вместо звонков по мобилам будем как раньше дог...   есть    встретиться   \n",
       "..                                                 ...    ...            ...   \n",
       "499  Получается, что если стараться запомнить как м...    нет  потребоваться   \n",
       "500  На мой взгляд, это связано с особенностью восп...    нет    требоваться   \n",
       "501  В сети в последнее время стало появляться мног...    нет       являться   \n",
       "502  Человеку приходится запоминать огромное количе...    нет    приходиться   \n",
       "503  Через некоторое время выученные наборы символо...    нет      стираться   \n",
       "\n",
       "    Нужная форма Число Омофоничность инфинитива и формы третьего лица   \n",
       "0     нефинитная     -                                             да  \\\n",
       "1     нефинитная     -                                             да   \n",
       "2     нефинитная     -                                             да   \n",
       "3     нефинитная     -                                             да   \n",
       "4     нефинитная     -                                             да   \n",
       "..           ...   ...                                            ...   \n",
       "499     финитная    ед                                            нет   \n",
       "500     финитная    ед                                            нет   \n",
       "501     финитная    мн                                            нет   \n",
       "502     финитная    ед                                            нет   \n",
       "503     финитная    мн                                            нет   \n",
       "\n",
       "    Омографичность инфинитива и формы третьего лица Наличие ГС       ГС   \n",
       "0                                                да       есть     надо  \\\n",
       "1                                                да       есть    важно   \n",
       "2                                                да       есть    может   \n",
       "3                                                да       есть     силы   \n",
       "4                                                да       есть    будем   \n",
       "..                                              ...        ...      ...   \n",
       "499                                             нет        нет        -   \n",
       "500                                             нет        нет        -   \n",
       "501                                             нет       есть  которые   \n",
       "502                                              да        нет        -   \n",
       "503                                             нет       есть   наборы   \n",
       "\n",
       "    Расстояние между глаголом и ГС Позиция глагола по отношению к ГС   \n",
       "0                                1                        препозиция  \\\n",
       "1                                1                       постпозиция   \n",
       "2                                0                       постпозиция   \n",
       "3                                2                       постпозиция   \n",
       "4                                2                       постпозиция   \n",
       "..                             ...                               ...   \n",
       "499                              -                                 -   \n",
       "500                              -                                 -   \n",
       "501                              0                       постпозиция   \n",
       "502                              -                                 -   \n",
       "503                              1                       постпозиция   \n",
       "\n",
       "    Синтаксическая роль ГС в предложении  \n",
       "0        сказуемое (категория состояния)  \n",
       "1        сказуемое (категория состояния)  \n",
       "2            сказуемое (финитный глагол)  \n",
       "3                             дополнение  \n",
       "4            сказуемое (финитный глагол)  \n",
       "..                                   ...  \n",
       "499                                    -  \n",
       "500                                    -  \n",
       "501                                    -  \n",
       "502                                    -  \n",
       "503                           подлежащее  \n",
       "\n",
       "[504 rows x 12 columns]"
      ]
     },
     "execution_count": 2,
     "metadata": {},
     "output_type": "execute_result"
    }
   ],
   "source": [
    "df = pd.read_csv('coursepaper.csv')\n",
    "df"
   ]
  },
  {
   "cell_type": "markdown",
   "id": "508a746b",
   "metadata": {},
   "source": [
    "### Раздел методологии"
   ]
  },
  {
   "cell_type": "markdown",
   "id": "560b6c39",
   "metadata": {},
   "source": [
    "#### Выбор интервалов расстояния между главным словом и глаголом"
   ]
  },
  {
   "cell_type": "code",
   "execution_count": 3,
   "id": "bc3bc78b",
   "metadata": {},
   "outputs": [
    {
     "data": {
      "text/html": [
       "<div>\n",
       "<style scoped>\n",
       "    .dataframe tbody tr th:only-of-type {\n",
       "        vertical-align: middle;\n",
       "    }\n",
       "\n",
       "    .dataframe tbody tr th {\n",
       "        vertical-align: top;\n",
       "    }\n",
       "\n",
       "    .dataframe thead th {\n",
       "        text-align: right;\n",
       "    }\n",
       "</style>\n",
       "<table border=\"1\" class=\"dataframe\">\n",
       "  <thead>\n",
       "    <tr style=\"text-align: right;\">\n",
       "      <th>Ошибка</th>\n",
       "      <th>есть</th>\n",
       "      <th>нет</th>\n",
       "    </tr>\n",
       "    <tr>\n",
       "      <th>Расстояние между глаголом и ГС</th>\n",
       "      <th></th>\n",
       "      <th></th>\n",
       "    </tr>\n",
       "  </thead>\n",
       "  <tbody>\n",
       "    <tr>\n",
       "      <th>0</th>\n",
       "      <td>67.0</td>\n",
       "      <td>180.0</td>\n",
       "    </tr>\n",
       "    <tr>\n",
       "      <th>1</th>\n",
       "      <td>13.0</td>\n",
       "      <td>59.0</td>\n",
       "    </tr>\n",
       "    <tr>\n",
       "      <th>10</th>\n",
       "      <td>1.0</td>\n",
       "      <td>1.0</td>\n",
       "    </tr>\n",
       "    <tr>\n",
       "      <th>11</th>\n",
       "      <td>0.0</td>\n",
       "      <td>2.0</td>\n",
       "    </tr>\n",
       "    <tr>\n",
       "      <th>12</th>\n",
       "      <td>1.0</td>\n",
       "      <td>3.0</td>\n",
       "    </tr>\n",
       "    <tr>\n",
       "      <th>13</th>\n",
       "      <td>0.0</td>\n",
       "      <td>1.0</td>\n",
       "    </tr>\n",
       "    <tr>\n",
       "      <th>19</th>\n",
       "      <td>0.0</td>\n",
       "      <td>1.0</td>\n",
       "    </tr>\n",
       "    <tr>\n",
       "      <th>2</th>\n",
       "      <td>6.0</td>\n",
       "      <td>23.0</td>\n",
       "    </tr>\n",
       "    <tr>\n",
       "      <th>3</th>\n",
       "      <td>3.0</td>\n",
       "      <td>19.0</td>\n",
       "    </tr>\n",
       "    <tr>\n",
       "      <th>4</th>\n",
       "      <td>1.0</td>\n",
       "      <td>13.0</td>\n",
       "    </tr>\n",
       "    <tr>\n",
       "      <th>5</th>\n",
       "      <td>1.0</td>\n",
       "      <td>10.0</td>\n",
       "    </tr>\n",
       "    <tr>\n",
       "      <th>6</th>\n",
       "      <td>0.0</td>\n",
       "      <td>6.0</td>\n",
       "    </tr>\n",
       "    <tr>\n",
       "      <th>7</th>\n",
       "      <td>0.0</td>\n",
       "      <td>6.0</td>\n",
       "    </tr>\n",
       "    <tr>\n",
       "      <th>8</th>\n",
       "      <td>0.0</td>\n",
       "      <td>1.0</td>\n",
       "    </tr>\n",
       "    <tr>\n",
       "      <th>9</th>\n",
       "      <td>0.0</td>\n",
       "      <td>2.0</td>\n",
       "    </tr>\n",
       "  </tbody>\n",
       "</table>\n",
       "</div>"
      ],
      "text/plain": [
       "Ошибка                          есть    нет\n",
       "Расстояние между глаголом и ГС             \n",
       "0                               67.0  180.0\n",
       "1                               13.0   59.0\n",
       "10                               1.0    1.0\n",
       "11                               0.0    2.0\n",
       "12                               1.0    3.0\n",
       "13                               0.0    1.0\n",
       "19                               0.0    1.0\n",
       "2                                6.0   23.0\n",
       "3                                3.0   19.0\n",
       "4                                1.0   13.0\n",
       "5                                1.0   10.0\n",
       "6                                0.0    6.0\n",
       "7                                0.0    6.0\n",
       "8                                0.0    1.0\n",
       "9                                0.0    2.0"
      ]
     },
     "execution_count": 3,
     "metadata": {},
     "output_type": "execute_result"
    }
   ],
   "source": [
    "distance = df.groupby('Расстояние между глаголом и ГС')['Ошибка'].value_counts().unstack().fillna(0.0).drop(index='-')\n",
    "distance"
   ]
  },
  {
   "cell_type": "code",
   "execution_count": 4,
   "id": "eca9d484",
   "metadata": {},
   "outputs": [
    {
     "data": {
      "image/png": "[encoded data removed]",
      "text/plain": [
       "<Figure size 640x480 with 1 Axes>"
      ]
     },
     "metadata": {},
     "output_type": "display_data"
    }
   ],
   "source": [
    "# Диаграмма №1\n",
    "distance.rename(index={'0':0, '1':1, '10':10, '11':11, '12':12, '13':13, '19':19, '2':2, '3':3, '4':4, '5':5, '6':6, '7':7, '8':8, '9':9}, inplace= True )\n",
    "distance = distance.sort_index()\n",
    "ax = distance.plot.bar(rot=0)\n",
    "ax.figure.savefig('distance_plot.png')"
   ]
  },
  {
   "cell_type": "markdown",
   "id": "5e67bf0e",
   "metadata": {},
   "source": [
    "### Раздел статистики"
   ]
  },
  {
   "cell_type": "markdown",
   "id": "f4aca01a",
   "metadata": {},
   "source": [
    "#### Разделим наш датасет на два датасета - один с финитными формами глаголов (fin), другой - для инфинитивных (infin)"
   ]
  },
  {
   "cell_type": "code",
   "execution_count": 5,
   "id": "5983efc3",
   "metadata": {},
   "outputs": [
    {
     "data": {
      "text/html": [
       "<div>\n",
       "<style scoped>\n",
       "    .dataframe tbody tr th:only-of-type {\n",
       "        vertical-align: middle;\n",
       "    }\n",
       "\n",
       "    .dataframe tbody tr th {\n",
       "        vertical-align: top;\n",
       "    }\n",
       "\n",
       "    .dataframe thead th {\n",
       "        text-align: right;\n",
       "    }\n",
       "</style>\n",
       "<table border=\"1\" class=\"dataframe\">\n",
       "  <thead>\n",
       "    <tr style=\"text-align: right;\">\n",
       "      <th></th>\n",
       "      <th>Предложение</th>\n",
       "      <th>Ошибка</th>\n",
       "      <th>Глагол</th>\n",
       "      <th>Нужная форма</th>\n",
       "      <th>Число</th>\n",
       "      <th>Омофоничность инфинитива и формы третьего лица</th>\n",
       "      <th>Омографичность инфинитива и формы третьего лица</th>\n",
       "      <th>Наличие ГС</th>\n",
       "      <th>ГС</th>\n",
       "      <th>Расстояние между глаголом и ГС</th>\n",
       "      <th>Позиция глагола по отношению к ГС</th>\n",
       "      <th>Синтаксическая роль ГС в предложении</th>\n",
       "    </tr>\n",
       "  </thead>\n",
       "  <tbody>\n",
       "    <tr>\n",
       "      <th>92</th>\n",
       "      <td>Автор раскрывает данное понятие и объясняет на...</td>\n",
       "      <td>есть</td>\n",
       "      <td>бояться</td>\n",
       "      <td>финитная</td>\n",
       "      <td>мн</td>\n",
       "      <td>да</td>\n",
       "      <td>да</td>\n",
       "      <td>есть</td>\n",
       "      <td>люди</td>\n",
       "      <td>0</td>\n",
       "      <td>постпозиция</td>\n",
       "      <td>подлежащее</td>\n",
       "    </tr>\n",
       "    <tr>\n",
       "      <th>93</th>\n",
       "      <td>Однако этот подход не учитывает взаимоотношени...</td>\n",
       "      <td>есть</td>\n",
       "      <td>говориться</td>\n",
       "      <td>финитная</td>\n",
       "      <td>ед</td>\n",
       "      <td>да</td>\n",
       "      <td>да</td>\n",
       "      <td>нет</td>\n",
       "      <td>-</td>\n",
       "      <td>-</td>\n",
       "      <td>-</td>\n",
       "      <td>-</td>\n",
       "    </tr>\n",
       "    <tr>\n",
       "      <th>94</th>\n",
       "      <td>Кроме того, Н. Н. Талеб пишет, что открытие че...</td>\n",
       "      <td>есть</td>\n",
       "      <td>говориться</td>\n",
       "      <td>финитная</td>\n",
       "      <td>ед</td>\n",
       "      <td>да</td>\n",
       "      <td>да</td>\n",
       "      <td>есть</td>\n",
       "      <td>обратное</td>\n",
       "      <td>0</td>\n",
       "      <td>препозиция</td>\n",
       "      <td>подлежащее</td>\n",
       "    </tr>\n",
       "    <tr>\n",
       "      <th>95</th>\n",
       "      <td>А для тебя всё закончиться единственное, что б...</td>\n",
       "      <td>есть</td>\n",
       "      <td>закончиться</td>\n",
       "      <td>финитная</td>\n",
       "      <td>ед</td>\n",
       "      <td>да</td>\n",
       "      <td>да</td>\n",
       "      <td>есть</td>\n",
       "      <td>всё</td>\n",
       "      <td>0</td>\n",
       "      <td>постпозиция</td>\n",
       "      <td>подлежащее</td>\n",
       "    </tr>\n",
       "    <tr>\n",
       "      <th>96</th>\n",
       "      <td>Поэтому то, что нравиться одному, может раздра...</td>\n",
       "      <td>есть</td>\n",
       "      <td>нравиться</td>\n",
       "      <td>финитная</td>\n",
       "      <td>ед</td>\n",
       "      <td>да</td>\n",
       "      <td>да</td>\n",
       "      <td>есть</td>\n",
       "      <td>что</td>\n",
       "      <td>0</td>\n",
       "      <td>постпозиция</td>\n",
       "      <td>подлежащее</td>\n",
       "    </tr>\n",
       "    <tr>\n",
       "      <th>...</th>\n",
       "      <td>...</td>\n",
       "      <td>...</td>\n",
       "      <td>...</td>\n",
       "      <td>...</td>\n",
       "      <td>...</td>\n",
       "      <td>...</td>\n",
       "      <td>...</td>\n",
       "      <td>...</td>\n",
       "      <td>...</td>\n",
       "      <td>...</td>\n",
       "      <td>...</td>\n",
       "      <td>...</td>\n",
       "    </tr>\n",
       "    <tr>\n",
       "      <th>499</th>\n",
       "      <td>Получается, что если стараться запомнить как м...</td>\n",
       "      <td>нет</td>\n",
       "      <td>потребоваться</td>\n",
       "      <td>финитная</td>\n",
       "      <td>ед</td>\n",
       "      <td>нет</td>\n",
       "      <td>нет</td>\n",
       "      <td>нет</td>\n",
       "      <td>-</td>\n",
       "      <td>-</td>\n",
       "      <td>-</td>\n",
       "      <td>-</td>\n",
       "    </tr>\n",
       "    <tr>\n",
       "      <th>500</th>\n",
       "      <td>На мой взгляд, это связано с особенностью восп...</td>\n",
       "      <td>нет</td>\n",
       "      <td>требоваться</td>\n",
       "      <td>финитная</td>\n",
       "      <td>ед</td>\n",
       "      <td>нет</td>\n",
       "      <td>нет</td>\n",
       "      <td>нет</td>\n",
       "      <td>-</td>\n",
       "      <td>-</td>\n",
       "      <td>-</td>\n",
       "      <td>-</td>\n",
       "    </tr>\n",
       "    <tr>\n",
       "      <th>501</th>\n",
       "      <td>В сети в последнее время стало появляться мног...</td>\n",
       "      <td>нет</td>\n",
       "      <td>являться</td>\n",
       "      <td>финитная</td>\n",
       "      <td>мн</td>\n",
       "      <td>нет</td>\n",
       "      <td>нет</td>\n",
       "      <td>есть</td>\n",
       "      <td>которые</td>\n",
       "      <td>0</td>\n",
       "      <td>постпозиция</td>\n",
       "      <td>-</td>\n",
       "    </tr>\n",
       "    <tr>\n",
       "      <th>502</th>\n",
       "      <td>Человеку приходится запоминать огромное количе...</td>\n",
       "      <td>нет</td>\n",
       "      <td>приходиться</td>\n",
       "      <td>финитная</td>\n",
       "      <td>ед</td>\n",
       "      <td>нет</td>\n",
       "      <td>да</td>\n",
       "      <td>нет</td>\n",
       "      <td>-</td>\n",
       "      <td>-</td>\n",
       "      <td>-</td>\n",
       "      <td>-</td>\n",
       "    </tr>\n",
       "    <tr>\n",
       "      <th>503</th>\n",
       "      <td>Через некоторое время выученные наборы символо...</td>\n",
       "      <td>нет</td>\n",
       "      <td>стираться</td>\n",
       "      <td>финитная</td>\n",
       "      <td>мн</td>\n",
       "      <td>нет</td>\n",
       "      <td>нет</td>\n",
       "      <td>есть</td>\n",
       "      <td>наборы</td>\n",
       "      <td>1</td>\n",
       "      <td>постпозиция</td>\n",
       "      <td>подлежащее</td>\n",
       "    </tr>\n",
       "  </tbody>\n",
       "</table>\n",
       "<p>201 rows × 12 columns</p>\n",
       "</div>"
      ],
      "text/plain": [
       "                                           Предложение Ошибка         Глагол   \n",
       "92   Автор раскрывает данное понятие и объясняет на...   есть        бояться  \\\n",
       "93   Однако этот подход не учитывает взаимоотношени...   есть     говориться   \n",
       "94   Кроме того, Н. Н. Талеб пишет, что открытие че...   есть     говориться   \n",
       "95   А для тебя всё закончиться единственное, что б...   есть    закончиться   \n",
       "96   Поэтому то, что нравиться одному, может раздра...   есть      нравиться   \n",
       "..                                                 ...    ...            ...   \n",
       "499  Получается, что если стараться запомнить как м...    нет  потребоваться   \n",
       "500  На мой взгляд, это связано с особенностью восп...    нет    требоваться   \n",
       "501  В сети в последнее время стало появляться мног...    нет       являться   \n",
       "502  Человеку приходится запоминать огромное количе...    нет    приходиться   \n",
       "503  Через некоторое время выученные наборы символо...    нет      стираться   \n",
       "\n",
       "    Нужная форма Число Омофоничность инфинитива и формы третьего лица   \n",
       "92      финитная    мн                                             да  \\\n",
       "93      финитная    ед                                             да   \n",
       "94      финитная    ед                                             да   \n",
       "95      финитная    ед                                             да   \n",
       "96      финитная    ед                                             да   \n",
       "..           ...   ...                                            ...   \n",
       "499     финитная    ед                                            нет   \n",
       "500     финитная    ед                                            нет   \n",
       "501     финитная    мн                                            нет   \n",
       "502     финитная    ед                                            нет   \n",
       "503     финитная    мн                                            нет   \n",
       "\n",
       "    Омографичность инфинитива и формы третьего лица Наличие ГС        ГС   \n",
       "92                                               да       есть      люди  \\\n",
       "93                                               да        нет         -   \n",
       "94                                               да       есть  обратное   \n",
       "95                                               да       есть       всё   \n",
       "96                                               да       есть       что   \n",
       "..                                              ...        ...       ...   \n",
       "499                                             нет        нет         -   \n",
       "500                                             нет        нет         -   \n",
       "501                                             нет       есть   которые   \n",
       "502                                              да        нет         -   \n",
       "503                                             нет       есть    наборы   \n",
       "\n",
       "    Расстояние между глаголом и ГС Позиция глагола по отношению к ГС   \n",
       "92                               0                       постпозиция  \\\n",
       "93                               -                                 -   \n",
       "94                               0                        препозиция   \n",
       "95                               0                       постпозиция   \n",
       "96                               0                       постпозиция   \n",
       "..                             ...                               ...   \n",
       "499                              -                                 -   \n",
       "500                              -                                 -   \n",
       "501                              0                       постпозиция   \n",
       "502                              -                                 -   \n",
       "503                              1                       постпозиция   \n",
       "\n",
       "    Синтаксическая роль ГС в предложении  \n",
       "92                            подлежащее  \n",
       "93                                     -  \n",
       "94                            подлежащее  \n",
       "95                            подлежащее  \n",
       "96                            подлежащее  \n",
       "..                                   ...  \n",
       "499                                    -  \n",
       "500                                    -  \n",
       "501                                    -  \n",
       "502                                    -  \n",
       "503                           подлежащее  \n",
       "\n",
       "[201 rows x 12 columns]"
      ]
     },
     "execution_count": 5,
     "metadata": {},
     "output_type": "execute_result"
    }
   ],
   "source": [
    "fin = df[df['Нужная форма'] == 'финитная']\n",
    "fin"
   ]
  },
  {
   "cell_type": "code",
   "execution_count": 6,
   "id": "147f47b7",
   "metadata": {},
   "outputs": [
    {
     "data": {
      "text/html": [
       "<div>\n",
       "<style scoped>\n",
       "    .dataframe tbody tr th:only-of-type {\n",
       "        vertical-align: middle;\n",
       "    }\n",
       "\n",
       "    .dataframe tbody tr th {\n",
       "        vertical-align: top;\n",
       "    }\n",
       "\n",
       "    .dataframe thead th {\n",
       "        text-align: right;\n",
       "    }\n",
       "</style>\n",
       "<table border=\"1\" class=\"dataframe\">\n",
       "  <thead>\n",
       "    <tr style=\"text-align: right;\">\n",
       "      <th></th>\n",
       "      <th>Предложение</th>\n",
       "      <th>Ошибка</th>\n",
       "      <th>Глагол</th>\n",
       "      <th>Нужная форма</th>\n",
       "      <th>Число</th>\n",
       "      <th>Омофоничность инфинитива и формы третьего лица</th>\n",
       "      <th>Омографичность инфинитива и формы третьего лица</th>\n",
       "      <th>Наличие ГС</th>\n",
       "      <th>ГС</th>\n",
       "      <th>Расстояние между глаголом и ГС</th>\n",
       "      <th>Позиция глагола по отношению к ГС</th>\n",
       "      <th>Синтаксическая роль ГС в предложении</th>\n",
       "    </tr>\n",
       "  </thead>\n",
       "  <tbody>\n",
       "    <tr>\n",
       "      <th>0</th>\n",
       "      <td>Вам за это беспокоится не надо!</td>\n",
       "      <td>есть</td>\n",
       "      <td>беспокоиться</td>\n",
       "      <td>нефинитная</td>\n",
       "      <td>-</td>\n",
       "      <td>да</td>\n",
       "      <td>да</td>\n",
       "      <td>есть</td>\n",
       "      <td>надо</td>\n",
       "      <td>1</td>\n",
       "      <td>препозиция</td>\n",
       "      <td>сказуемое (категория состояния)</td>\n",
       "    </tr>\n",
       "    <tr>\n",
       "      <th>1</th>\n",
       "      <td>Поэтому очень важно не боятся ошибаться, риско...</td>\n",
       "      <td>есть</td>\n",
       "      <td>бояться</td>\n",
       "      <td>нефинитная</td>\n",
       "      <td>-</td>\n",
       "      <td>да</td>\n",
       "      <td>да</td>\n",
       "      <td>есть</td>\n",
       "      <td>важно</td>\n",
       "      <td>1</td>\n",
       "      <td>постпозиция</td>\n",
       "      <td>сказуемое (категория состояния)</td>\n",
       "    </tr>\n",
       "    <tr>\n",
       "      <th>2</th>\n",
       "      <td>Повторюсь, доллар может вернутся выше 70, в од...</td>\n",
       "      <td>есть</td>\n",
       "      <td>вернуться</td>\n",
       "      <td>нефинитная</td>\n",
       "      <td>-</td>\n",
       "      <td>да</td>\n",
       "      <td>да</td>\n",
       "      <td>есть</td>\n",
       "      <td>может</td>\n",
       "      <td>0</td>\n",
       "      <td>постпозиция</td>\n",
       "      <td>сказуемое (финитный глагол)</td>\n",
       "    </tr>\n",
       "    <tr>\n",
       "      <th>3</th>\n",
       "      <td>Еще тысячи остались инвалидами, но это поколен...</td>\n",
       "      <td>есть</td>\n",
       "      <td>вернуться</td>\n",
       "      <td>нефинитная</td>\n",
       "      <td>-</td>\n",
       "      <td>да</td>\n",
       "      <td>да</td>\n",
       "      <td>есть</td>\n",
       "      <td>силы</td>\n",
       "      <td>2</td>\n",
       "      <td>постпозиция</td>\n",
       "      <td>дополнение</td>\n",
       "    </tr>\n",
       "    <tr>\n",
       "      <th>4</th>\n",
       "      <td>Вместо звонков по мобилам будем как раньше дог...</td>\n",
       "      <td>есть</td>\n",
       "      <td>встретиться</td>\n",
       "      <td>нефинитная</td>\n",
       "      <td>-</td>\n",
       "      <td>да</td>\n",
       "      <td>да</td>\n",
       "      <td>есть</td>\n",
       "      <td>будем</td>\n",
       "      <td>2</td>\n",
       "      <td>постпозиция</td>\n",
       "      <td>сказуемое (финитный глагол)</td>\n",
       "    </tr>\n",
       "    <tr>\n",
       "      <th>...</th>\n",
       "      <td>...</td>\n",
       "      <td>...</td>\n",
       "      <td>...</td>\n",
       "      <td>...</td>\n",
       "      <td>...</td>\n",
       "      <td>...</td>\n",
       "      <td>...</td>\n",
       "      <td>...</td>\n",
       "      <td>...</td>\n",
       "      <td>...</td>\n",
       "      <td>...</td>\n",
       "      <td>...</td>\n",
       "    </tr>\n",
       "    <tr>\n",
       "      <th>341</th>\n",
       "      <td>Какую бы информацию ему не говорили, он на вря...</td>\n",
       "      <td>нет</td>\n",
       "      <td>прислушиваться</td>\n",
       "      <td>нефинитная</td>\n",
       "      <td>-</td>\n",
       "      <td>нет</td>\n",
       "      <td>нет</td>\n",
       "      <td>есть</td>\n",
       "      <td>станет</td>\n",
       "      <td>2</td>\n",
       "      <td>постпозиция</td>\n",
       "      <td>сказуемое (финитный глагол)</td>\n",
       "    </tr>\n",
       "    <tr>\n",
       "      <th>342</th>\n",
       "      <td>Какую бы информацию ему не говорили, он на вря...</td>\n",
       "      <td>нет</td>\n",
       "      <td>стараться</td>\n",
       "      <td>нефинитная</td>\n",
       "      <td>-</td>\n",
       "      <td>нет</td>\n",
       "      <td>нет</td>\n",
       "      <td>есть</td>\n",
       "      <td>станет</td>\n",
       "      <td>4</td>\n",
       "      <td>постпозиция</td>\n",
       "      <td>сказуемое (финитный глагол)</td>\n",
       "    </tr>\n",
       "    <tr>\n",
       "      <th>343</th>\n",
       "      <td>В сети в последнее время стало появляться мног...</td>\n",
       "      <td>нет</td>\n",
       "      <td>появляться</td>\n",
       "      <td>нефинитная</td>\n",
       "      <td>-</td>\n",
       "      <td>нет</td>\n",
       "      <td>нет</td>\n",
       "      <td>есть</td>\n",
       "      <td>стало</td>\n",
       "      <td>0</td>\n",
       "      <td>постпозиция</td>\n",
       "      <td>сказуемое (категория состояния)</td>\n",
       "    </tr>\n",
       "    <tr>\n",
       "      <th>344</th>\n",
       "      <td>Я сам нередко встречал людей, которым проще не...</td>\n",
       "      <td>нет</td>\n",
       "      <td>вдаваться</td>\n",
       "      <td>нефинитная</td>\n",
       "      <td>-</td>\n",
       "      <td>нет</td>\n",
       "      <td>нет</td>\n",
       "      <td>нет</td>\n",
       "      <td>-</td>\n",
       "      <td>-</td>\n",
       "      <td>-</td>\n",
       "      <td>-</td>\n",
       "    </tr>\n",
       "    <tr>\n",
       "      <th>345</th>\n",
       "      <td>Не имея представления об ионной связи, нельзя ...</td>\n",
       "      <td>нет</td>\n",
       "      <td>разобраться</td>\n",
       "      <td>нефинитная</td>\n",
       "      <td>-</td>\n",
       "      <td>нет</td>\n",
       "      <td>нет</td>\n",
       "      <td>есть</td>\n",
       "      <td>нельзя</td>\n",
       "      <td>0</td>\n",
       "      <td>постпозиция</td>\n",
       "      <td>сказуемое (категория состояния)</td>\n",
       "    </tr>\n",
       "  </tbody>\n",
       "</table>\n",
       "<p>303 rows × 12 columns</p>\n",
       "</div>"
      ],
      "text/plain": [
       "                                           Предложение Ошибка          Глагол   \n",
       "0                      Вам за это беспокоится не надо!   есть    беспокоиться  \\\n",
       "1    Поэтому очень важно не боятся ошибаться, риско...   есть         бояться   \n",
       "2    Повторюсь, доллар может вернутся выше 70, в од...   есть       вернуться   \n",
       "3    Еще тысячи остались инвалидами, но это поколен...   есть       вернуться   \n",
       "4    Вместо звонков по мобилам будем как раньше дог...   есть     встретиться   \n",
       "..                                                 ...    ...             ...   \n",
       "341  Какую бы информацию ему не говорили, он на вря...    нет  прислушиваться   \n",
       "342  Какую бы информацию ему не говорили, он на вря...    нет       стараться   \n",
       "343  В сети в последнее время стало появляться мног...    нет      появляться   \n",
       "344  Я сам нередко встречал людей, которым проще не...    нет       вдаваться   \n",
       "345  Не имея представления об ионной связи, нельзя ...    нет     разобраться   \n",
       "\n",
       "    Нужная форма Число Омофоничность инфинитива и формы третьего лица   \n",
       "0     нефинитная     -                                             да  \\\n",
       "1     нефинитная     -                                             да   \n",
       "2     нефинитная     -                                             да   \n",
       "3     нефинитная     -                                             да   \n",
       "4     нефинитная     -                                             да   \n",
       "..           ...   ...                                            ...   \n",
       "341   нефинитная     -                                            нет   \n",
       "342   нефинитная     -                                            нет   \n",
       "343   нефинитная     -                                            нет   \n",
       "344   нефинитная     -                                            нет   \n",
       "345   нефинитная     -                                            нет   \n",
       "\n",
       "    Омографичность инфинитива и формы третьего лица Наличие ГС      ГС   \n",
       "0                                                да       есть    надо  \\\n",
       "1                                                да       есть   важно   \n",
       "2                                                да       есть   может   \n",
       "3                                                да       есть    силы   \n",
       "4                                                да       есть   будем   \n",
       "..                                              ...        ...     ...   \n",
       "341                                             нет       есть  станет   \n",
       "342                                             нет       есть  станет   \n",
       "343                                             нет       есть   стало   \n",
       "344                                             нет        нет       -   \n",
       "345                                             нет       есть  нельзя   \n",
       "\n",
       "    Расстояние между глаголом и ГС Позиция глагола по отношению к ГС   \n",
       "0                                1                        препозиция  \\\n",
       "1                                1                       постпозиция   \n",
       "2                                0                       постпозиция   \n",
       "3                                2                       постпозиция   \n",
       "4                                2                       постпозиция   \n",
       "..                             ...                               ...   \n",
       "341                              2                       постпозиция   \n",
       "342                              4                       постпозиция   \n",
       "343                              0                       постпозиция   \n",
       "344                              -                                 -   \n",
       "345                              0                       постпозиция   \n",
       "\n",
       "    Синтаксическая роль ГС в предложении  \n",
       "0        сказуемое (категория состояния)  \n",
       "1        сказуемое (категория состояния)  \n",
       "2            сказуемое (финитный глагол)  \n",
       "3                             дополнение  \n",
       "4            сказуемое (финитный глагол)  \n",
       "..                                   ...  \n",
       "341          сказуемое (финитный глагол)  \n",
       "342          сказуемое (финитный глагол)  \n",
       "343      сказуемое (категория состояния)  \n",
       "344                                    -  \n",
       "345      сказуемое (категория состояния)  \n",
       "\n",
       "[303 rows x 12 columns]"
      ]
     },
     "execution_count": 6,
     "metadata": {},
     "output_type": "execute_result"
    }
   ],
   "source": [
    "infin = df[df['Нужная форма'] == 'нефинитная']\n",
    "infin"
   ]
  },
  {
   "cell_type": "markdown",
   "id": "16428602",
   "metadata": {},
   "source": [
    "#### Проверка гипотезы №1: Ошибки при написании инфинитивных форм встречаются чаще, чем при написании финитных форм."
   ]
  },
  {
   "cell_type": "code",
   "execution_count": 7,
   "id": "924f37e3",
   "metadata": {},
   "outputs": [
    {
     "data": {
      "text/plain": [
       "Ошибка\n",
       "нет     250\n",
       "есть     53\n",
       "Name: count, dtype: int64"
      ]
     },
     "execution_count": 7,
     "metadata": {},
     "output_type": "execute_result"
    }
   ],
   "source": [
    "# Распределение ошибок среди инфинитивов\n",
    "form_infin = infin['Ошибка'].value_counts()\n",
    "form_infin"
   ]
  },
  {
   "cell_type": "code",
   "execution_count": 8,
   "id": "964db671",
   "metadata": {},
   "outputs": [
    {
     "data": {
      "image/png": "[encoded data removed]",
      "text/plain": [
       "<Figure size 1100x600 with 1 Axes>"
      ]
     },
     "metadata": {},
     "output_type": "display_data"
    }
   ],
   "source": [
    "# Диаграмма №2\n",
    "ax = form_infin.plot.pie(subplots=True, figsize=(11, 6), autopct='%1.1f%%', legend = True, title = \"Распределение нефинитных форм по наличию ошибки\")\n",
    "fig = ax[0].get_figure()\n",
    "fig.savefig(\"infin_plot.png\")"
   ]
  },
  {
   "cell_type": "code",
   "execution_count": 9,
   "id": "866aa3c5",
   "metadata": {},
   "outputs": [
    {
     "data": {
      "text/plain": [
       "Ошибка\n",
       "нет     150\n",
       "есть     51\n",
       "Name: count, dtype: int64"
      ]
     },
     "execution_count": 9,
     "metadata": {},
     "output_type": "execute_result"
    }
   ],
   "source": [
    "# Распределение ошибок среди финитных форм\n",
    "form_fin = fin['Ошибка'].value_counts()\n",
    "form_fin"
   ]
  },
  {
   "cell_type": "code",
   "execution_count": 10,
   "id": "add5c5ea",
   "metadata": {},
   "outputs": [
    {
     "data": {
      "image/png": "[encoded data removed]",
      "text/plain": [
       "<Figure size 1100x600 with 1 Axes>"
      ]
     },
     "metadata": {},
     "output_type": "display_data"
    }
   ],
   "source": [
    "# Диаграмма №3\n",
    "ax = form_fin.plot.pie(subplots=True, figsize=(11, 6), autopct='%1.1f%%', legend = True, title = \"Распределение финитных форм по наличию ошибки\")\n",
    "fig = ax[0].get_figure()\n",
    "fig.savefig(\"fin_plot.png\")"
   ]
  },
  {
   "cell_type": "code",
   "execution_count": 11,
   "id": "e4c717e8",
   "metadata": {},
   "outputs": [
    {
     "data": {
      "text/html": [
       "<div>\n",
       "<style scoped>\n",
       "    .dataframe tbody tr th:only-of-type {\n",
       "        vertical-align: middle;\n",
       "    }\n",
       "\n",
       "    .dataframe tbody tr th {\n",
       "        vertical-align: top;\n",
       "    }\n",
       "\n",
       "    .dataframe thead th {\n",
       "        text-align: right;\n",
       "    }\n",
       "</style>\n",
       "<table border=\"1\" class=\"dataframe\">\n",
       "  <thead>\n",
       "    <tr style=\"text-align: right;\">\n",
       "      <th>Нужная форма</th>\n",
       "      <th>нефинитная</th>\n",
       "      <th>финитная</th>\n",
       "    </tr>\n",
       "    <tr>\n",
       "      <th>Ошибка</th>\n",
       "      <th></th>\n",
       "      <th></th>\n",
       "    </tr>\n",
       "  </thead>\n",
       "  <tbody>\n",
       "    <tr>\n",
       "      <th>есть</th>\n",
       "      <td>53</td>\n",
       "      <td>51</td>\n",
       "    </tr>\n",
       "    <tr>\n",
       "      <th>нет</th>\n",
       "      <td>250</td>\n",
       "      <td>150</td>\n",
       "    </tr>\n",
       "  </tbody>\n",
       "</table>\n",
       "</div>"
      ],
      "text/plain": [
       "Нужная форма  нефинитная  финитная\n",
       "Ошибка                            \n",
       "есть                  53        51\n",
       "нет                  250       150"
      ]
     },
     "execution_count": 11,
     "metadata": {},
     "output_type": "execute_result"
    }
   ],
   "source": [
    "form = df.groupby('Нужная форма')['Ошибка'].value_counts().unstack().T\n",
    "form"
   ]
  },
  {
   "cell_type": "code",
   "execution_count": 12,
   "id": "3d1a1b3f",
   "metadata": {},
   "outputs": [
    {
     "data": {
      "text/plain": [
       "Chi2ContingencyResult(statistic=4.583328596923986, pvalue=0.03228444314079132, dof=1, expected_freq=array([[ 62.52380952,  41.47619048],\n",
       "       [240.47619048, 159.52380952]]))"
      ]
     },
     "execution_count": 12,
     "metadata": {},
     "output_type": "execute_result"
    }
   ],
   "source": [
    "scipy.stats.chi2_contingency(form, correction = False)"
   ]
  },
  {
   "cell_type": "markdown",
   "id": "7f25a357",
   "metadata": {},
   "source": [
    "#### Проверка гипотезы №2: Вероятность ошибки выше при написании форм глагола, инфинитив и форма третьего лица которого омофоничны."
   ]
  },
  {
   "cell_type": "code",
   "execution_count": 13,
   "id": "1db7abf7",
   "metadata": {},
   "outputs": [
    {
     "data": {
      "text/html": [
       "<div>\n",
       "<style scoped>\n",
       "    .dataframe tbody tr th:only-of-type {\n",
       "        vertical-align: middle;\n",
       "    }\n",
       "\n",
       "    .dataframe tbody tr th {\n",
       "        vertical-align: top;\n",
       "    }\n",
       "\n",
       "    .dataframe thead th {\n",
       "        text-align: right;\n",
       "    }\n",
       "</style>\n",
       "<table border=\"1\" class=\"dataframe\">\n",
       "  <thead>\n",
       "    <tr style=\"text-align: right;\">\n",
       "      <th>Омофоничность инфинитива и формы третьего лица</th>\n",
       "      <th>да</th>\n",
       "      <th>нет</th>\n",
       "    </tr>\n",
       "    <tr>\n",
       "      <th>Ошибка</th>\n",
       "      <th></th>\n",
       "      <th></th>\n",
       "    </tr>\n",
       "  </thead>\n",
       "  <tbody>\n",
       "    <tr>\n",
       "      <th>есть</th>\n",
       "      <td>43</td>\n",
       "      <td>61</td>\n",
       "    </tr>\n",
       "    <tr>\n",
       "      <th>нет</th>\n",
       "      <td>86</td>\n",
       "      <td>314</td>\n",
       "    </tr>\n",
       "  </tbody>\n",
       "</table>\n",
       "</div>"
      ],
      "text/plain": [
       "Омофоничность инфинитива и формы третьего лица  да  нет\n",
       "Ошибка                                                 \n",
       "есть                                            43   61\n",
       "нет                                             86  314"
      ]
     },
     "execution_count": 13,
     "metadata": {},
     "output_type": "execute_result"
    }
   ],
   "source": [
    "omophony = df.groupby('Омофоничность инфинитива и формы третьего лица')['Ошибка'].value_counts().unstack().T\n",
    "omophony"
   ]
  },
  {
   "cell_type": "code",
   "execution_count": 14,
   "id": "339f9052",
   "metadata": {},
   "outputs": [
    {
     "data": {
      "text/plain": [
       "Chi2ContingencyResult(statistic=17.07086769230769, pvalue=3.601048273114491e-05, dof=1, expected_freq=array([[ 26.61904762,  77.38095238],\n",
       "       [102.38095238, 297.61904762]]))"
      ]
     },
     "execution_count": 14,
     "metadata": {},
     "output_type": "execute_result"
    }
   ],
   "source": [
    "scipy.stats.chi2_contingency(omophony, correction = False)"
   ]
  },
  {
   "cell_type": "code",
   "execution_count": 15,
   "id": "ec60b259",
   "metadata": {},
   "outputs": [
    {
     "data": {
      "image/png": "[encoded data removed]",
      "text/plain": [
       "<Figure size 1100x600 with 2 Axes>"
      ]
     },
     "metadata": {},
     "output_type": "display_data"
    }
   ],
   "source": [
    "ax = omophony.plot.pie(subplots=True, figsize=(11, 6), autopct='%1.1f%%', legend = True, title = \"Распределение омофоничных форм по наличию ошибки\")\n",
    "fig = ax[0].get_figure()\n",
    "fig.savefig(\"omophony_plot.png\")"
   ]
  },
  {
   "cell_type": "markdown",
   "id": "f3a4bbb7",
   "metadata": {},
   "source": [
    "#### Проверка гипотезы №3: Вероятность ошибки выше при написании форм глагола, инфинитив и форма третьего лица которого омографичны."
   ]
  },
  {
   "cell_type": "code",
   "execution_count": 16,
   "id": "aed78de5",
   "metadata": {},
   "outputs": [
    {
     "data": {
      "text/html": [
       "<div>\n",
       "<style scoped>\n",
       "    .dataframe tbody tr th:only-of-type {\n",
       "        vertical-align: middle;\n",
       "    }\n",
       "\n",
       "    .dataframe tbody tr th {\n",
       "        vertical-align: top;\n",
       "    }\n",
       "\n",
       "    .dataframe thead th {\n",
       "        text-align: right;\n",
       "    }\n",
       "</style>\n",
       "<table border=\"1\" class=\"dataframe\">\n",
       "  <thead>\n",
       "    <tr style=\"text-align: right;\">\n",
       "      <th>Омографичность инфинитива и формы третьего лица</th>\n",
       "      <th>да</th>\n",
       "      <th>нет</th>\n",
       "    </tr>\n",
       "    <tr>\n",
       "      <th>Ошибка</th>\n",
       "      <th></th>\n",
       "      <th></th>\n",
       "    </tr>\n",
       "  </thead>\n",
       "  <tbody>\n",
       "    <tr>\n",
       "      <th>есть</th>\n",
       "      <td>84</td>\n",
       "      <td>20</td>\n",
       "    </tr>\n",
       "    <tr>\n",
       "      <th>нет</th>\n",
       "      <td>136</td>\n",
       "      <td>264</td>\n",
       "    </tr>\n",
       "  </tbody>\n",
       "</table>\n",
       "</div>"
      ],
      "text/plain": [
       "Омографичность инфинитива и формы третьего лица   да  нет\n",
       "Ошибка                                                   \n",
       "есть                                              84   20\n",
       "нет                                              136  264"
      ]
     },
     "execution_count": 16,
     "metadata": {},
     "output_type": "execute_result"
    }
   ],
   "source": [
    "omography = df.groupby('Омографичность инфинитива и формы третьего лица')['Ошибка'].value_counts().unstack().T\n",
    "omography"
   ]
  },
  {
   "cell_type": "code",
   "execution_count": 17,
   "id": "a7f3a9a7",
   "metadata": {},
   "outputs": [
    {
     "data": {
      "text/plain": [
       "Chi2ContingencyResult(statistic=73.40122367773071, pvalue=1.0580048015090923e-17, dof=1, expected_freq=array([[ 45.3968254,  58.6031746],\n",
       "       [174.6031746, 225.3968254]]))"
      ]
     },
     "execution_count": 17,
     "metadata": {},
     "output_type": "execute_result"
    }
   ],
   "source": [
    "scipy.stats.chi2_contingency(omography, correction = False)"
   ]
  },
  {
   "cell_type": "code",
   "execution_count": 18,
   "id": "f969a9a8",
   "metadata": {},
   "outputs": [
    {
     "data": {
      "image/png": "[encoded data removed]",
      "text/plain": [
       "<Figure size 1100x600 with 2 Axes>"
      ]
     },
     "metadata": {},
     "output_type": "display_data"
    }
   ],
   "source": [
    "ax = omography.plot.pie(subplots=True, figsize=(11, 6), autopct='%1.1f%%', legend = True, title = \"Распределение омографичных форм по наличию ошибки\")\n",
    "fig = ax[0].get_figure()\n",
    "fig.savefig(\"omography_plot.png\")"
   ]
  },
  {
   "cell_type": "markdown",
   "id": "c15e7b73",
   "metadata": {},
   "source": [
    "#### Проверка гипотезы №4: В финитных глаголах единственного числа ошибок будет меньше, чем в формах множественного числа."
   ]
  },
  {
   "cell_type": "code",
   "execution_count": 19,
   "id": "89a5a48a",
   "metadata": {},
   "outputs": [
    {
     "data": {
      "text/html": [
       "<div>\n",
       "<style scoped>\n",
       "    .dataframe tbody tr th:only-of-type {\n",
       "        vertical-align: middle;\n",
       "    }\n",
       "\n",
       "    .dataframe tbody tr th {\n",
       "        vertical-align: top;\n",
       "    }\n",
       "\n",
       "    .dataframe thead th {\n",
       "        text-align: right;\n",
       "    }\n",
       "</style>\n",
       "<table border=\"1\" class=\"dataframe\">\n",
       "  <thead>\n",
       "    <tr style=\"text-align: right;\">\n",
       "      <th>Число</th>\n",
       "      <th>ед</th>\n",
       "      <th>мн</th>\n",
       "    </tr>\n",
       "    <tr>\n",
       "      <th>Ошибка</th>\n",
       "      <th></th>\n",
       "      <th></th>\n",
       "    </tr>\n",
       "  </thead>\n",
       "  <tbody>\n",
       "    <tr>\n",
       "      <th>есть</th>\n",
       "      <td>40</td>\n",
       "      <td>11</td>\n",
       "    </tr>\n",
       "    <tr>\n",
       "      <th>нет</th>\n",
       "      <td>112</td>\n",
       "      <td>38</td>\n",
       "    </tr>\n",
       "  </tbody>\n",
       "</table>\n",
       "</div>"
      ],
      "text/plain": [
       "Число    ед  мн\n",
       "Ошибка         \n",
       "есть     40  11\n",
       "нет     112  38"
      ]
     },
     "execution_count": 19,
     "metadata": {},
     "output_type": "execute_result"
    }
   ],
   "source": [
    "number = fin.groupby('Число')['Ошибка'].value_counts().unstack().T\n",
    "number"
   ]
  },
  {
   "cell_type": "code",
   "execution_count": 20,
   "id": "f9538179",
   "metadata": {},
   "outputs": [
    {
     "data": {
      "text/plain": [
       "Chi2ContingencyResult(statistic=0.29260377835344625, pvalue=0.5885567791904986, dof=1, expected_freq=array([[ 38.56716418,  12.43283582],\n",
       "       [113.43283582,  36.56716418]]))"
      ]
     },
     "execution_count": 20,
     "metadata": {},
     "output_type": "execute_result"
    }
   ],
   "source": [
    "scipy.stats.chi2_contingency(number, correction = False)"
   ]
  },
  {
   "cell_type": "markdown",
   "id": "9998da07",
   "metadata": {},
   "source": [
    "#### Проверка гипотезы №5: Отсутствие главного слова при глаголе повышает вероятность его неправильного написания"
   ]
  },
  {
   "cell_type": "code",
   "execution_count": 21,
   "id": "b74b06c3",
   "metadata": {},
   "outputs": [
    {
     "data": {
      "text/html": [
       "<div>\n",
       "<style scoped>\n",
       "    .dataframe tbody tr th:only-of-type {\n",
       "        vertical-align: middle;\n",
       "    }\n",
       "\n",
       "    .dataframe tbody tr th {\n",
       "        vertical-align: top;\n",
       "    }\n",
       "\n",
       "    .dataframe thead th {\n",
       "        text-align: right;\n",
       "    }\n",
       "</style>\n",
       "<table border=\"1\" class=\"dataframe\">\n",
       "  <thead>\n",
       "    <tr style=\"text-align: right;\">\n",
       "      <th>Наличие ГС</th>\n",
       "      <th>есть</th>\n",
       "      <th>нет</th>\n",
       "    </tr>\n",
       "    <tr>\n",
       "      <th>Ошибка</th>\n",
       "      <th></th>\n",
       "      <th></th>\n",
       "    </tr>\n",
       "  </thead>\n",
       "  <tbody>\n",
       "    <tr>\n",
       "      <th>есть</th>\n",
       "      <td>42</td>\n",
       "      <td>9</td>\n",
       "    </tr>\n",
       "    <tr>\n",
       "      <th>нет</th>\n",
       "      <td>118</td>\n",
       "      <td>32</td>\n",
       "    </tr>\n",
       "  </tbody>\n",
       "</table>\n",
       "</div>"
      ],
      "text/plain": [
       "Наличие ГС  есть  нет\n",
       "Ошибка               \n",
       "есть          42    9\n",
       "нет          118   32"
      ]
     },
     "execution_count": 21,
     "metadata": {},
     "output_type": "execute_result"
    }
   ],
   "source": [
    "# Распределение ошибок среди финитных форм\n",
    "head_existence_fin = fin.groupby('Наличие ГС')['Ошибка'].value_counts().unstack().T\n",
    "head_existence_fin"
   ]
  },
  {
   "cell_type": "code",
   "execution_count": 22,
   "id": "a5b9304a",
   "metadata": {},
   "outputs": [
    {
     "data": {
      "text/plain": [
       "Chi2ContingencyResult(statistic=0.31851434720229543, pvalue=0.5725018386636072, dof=1, expected_freq=array([[ 40.59701493,  10.40298507],\n",
       "       [119.40298507,  30.59701493]]))"
      ]
     },
     "execution_count": 22,
     "metadata": {},
     "output_type": "execute_result"
    }
   ],
   "source": [
    "scipy.stats.chi2_contingency(head_existence_fin, correction = False)"
   ]
  },
  {
   "cell_type": "code",
   "execution_count": 23,
   "id": "04d8df30",
   "metadata": {},
   "outputs": [
    {
     "data": {
      "text/html": [
       "<div>\n",
       "<style scoped>\n",
       "    .dataframe tbody tr th:only-of-type {\n",
       "        vertical-align: middle;\n",
       "    }\n",
       "\n",
       "    .dataframe tbody tr th {\n",
       "        vertical-align: top;\n",
       "    }\n",
       "\n",
       "    .dataframe thead th {\n",
       "        text-align: right;\n",
       "    }\n",
       "</style>\n",
       "<table border=\"1\" class=\"dataframe\">\n",
       "  <thead>\n",
       "    <tr style=\"text-align: right;\">\n",
       "      <th>Наличие ГС</th>\n",
       "      <th>есть</th>\n",
       "      <th>нет</th>\n",
       "    </tr>\n",
       "    <tr>\n",
       "      <th>Ошибка</th>\n",
       "      <th></th>\n",
       "      <th></th>\n",
       "    </tr>\n",
       "  </thead>\n",
       "  <tbody>\n",
       "    <tr>\n",
       "      <th>есть</th>\n",
       "      <td>51</td>\n",
       "      <td>2</td>\n",
       "    </tr>\n",
       "    <tr>\n",
       "      <th>нет</th>\n",
       "      <td>209</td>\n",
       "      <td>41</td>\n",
       "    </tr>\n",
       "  </tbody>\n",
       "</table>\n",
       "</div>"
      ],
      "text/plain": [
       "Наличие ГС  есть  нет\n",
       "Ошибка               \n",
       "есть          51    2\n",
       "нет          209   41"
      ]
     },
     "execution_count": 23,
     "metadata": {},
     "output_type": "execute_result"
    }
   ],
   "source": [
    "# Распределение ошибок среди инфинитивов\n",
    "head_existence_infin = infin.groupby('Наличие ГС')['Ошибка'].value_counts().unstack().T\n",
    "head_existence_infin"
   ]
  },
  {
   "cell_type": "code",
   "execution_count": 24,
   "id": "de610021",
   "metadata": {},
   "outputs": [
    {
     "data": {
      "text/plain": [
       "Chi2ContingencyResult(statistic=5.725017632564891, pvalue=0.016724868658724194, dof=1, expected_freq=array([[ 45.47854785,   7.52145215],\n",
       "       [214.52145215,  35.47854785]]))"
      ]
     },
     "execution_count": 24,
     "metadata": {},
     "output_type": "execute_result"
    }
   ],
   "source": [
    "scipy.stats.chi2_contingency(head_existence_infin, correction = False)"
   ]
  },
  {
   "cell_type": "code",
   "execution_count": 25,
   "id": "2d395bd9",
   "metadata": {},
   "outputs": [
    {
     "data": {
      "image/png": "[encoded data removed]",
      "text/plain": [
       "<Figure size 1100x600 with 2 Axes>"
      ]
     },
     "metadata": {},
     "output_type": "display_data"
    }
   ],
   "source": [
    "ax = head_existence_infin.plot.pie(subplots=True, figsize=(11, 6), autopct='%1.1f%%', legend = True, title = \"Распределение примеров на -ться с наличием и отсутствием главного слова по ошибкам\")\n",
    "fig = ax[0].get_figure()\n",
    "fig.savefig(\"infin_head_existence_plot.png\")"
   ]
  },
  {
   "cell_type": "markdown",
   "id": "304d5a58",
   "metadata": {},
   "source": [
    "#### Проверка гипотезы №6: Препозиция глагола по отношению к главному слову увеличивает вероятность ошибки при его написании."
   ]
  },
  {
   "cell_type": "code",
   "execution_count": 26,
   "id": "566c5ce2",
   "metadata": {},
   "outputs": [
    {
     "data": {
      "text/html": [
       "<div>\n",
       "<style scoped>\n",
       "    .dataframe tbody tr th:only-of-type {\n",
       "        vertical-align: middle;\n",
       "    }\n",
       "\n",
       "    .dataframe tbody tr th {\n",
       "        vertical-align: top;\n",
       "    }\n",
       "\n",
       "    .dataframe thead th {\n",
       "        text-align: right;\n",
       "    }\n",
       "</style>\n",
       "<table border=\"1\" class=\"dataframe\">\n",
       "  <thead>\n",
       "    <tr style=\"text-align: right;\">\n",
       "      <th>Позиция глагола по отношению к ГС</th>\n",
       "      <th>постпозиция</th>\n",
       "      <th>препозиция</th>\n",
       "    </tr>\n",
       "    <tr>\n",
       "      <th>Ошибка</th>\n",
       "      <th></th>\n",
       "      <th></th>\n",
       "    </tr>\n",
       "  </thead>\n",
       "  <tbody>\n",
       "    <tr>\n",
       "      <th>есть</th>\n",
       "      <td>49</td>\n",
       "      <td>2</td>\n",
       "    </tr>\n",
       "    <tr>\n",
       "      <th>нет</th>\n",
       "      <td>205</td>\n",
       "      <td>4</td>\n",
       "    </tr>\n",
       "  </tbody>\n",
       "</table>\n",
       "</div>"
      ],
      "text/plain": [
       "Позиция глагола по отношению к ГС  постпозиция  препозиция\n",
       "Ошибка                                                    \n",
       "есть                                        49           2\n",
       "нет                                        205           4"
      ]
     },
     "execution_count": 26,
     "metadata": {},
     "output_type": "execute_result"
    }
   ],
   "source": [
    "# Распределение ошибок среди инфинитивов\n",
    "position_infin = infin.groupby('Позиция глагола по отношению к ГС')['Ошибка'].value_counts().unstack().drop(index='-').T\n",
    "position_infin"
   ]
  },
  {
   "cell_type": "code",
   "execution_count": 27,
   "id": "8dee8f78",
   "metadata": {},
   "outputs": [
    {
     "data": {
      "text/plain": [
       "Chi2ContingencyResult(statistic=0.7329923894610273, pvalue=0.39191495490240946, dof=1, expected_freq=array([[ 49.82307692,   1.17692308],\n",
       "       [204.17692308,   4.82307692]]))"
      ]
     },
     "execution_count": 27,
     "metadata": {},
     "output_type": "execute_result"
    }
   ],
   "source": [
    "scipy.stats.chi2_contingency(position_infin, correction = False)"
   ]
  },
  {
   "cell_type": "code",
   "execution_count": 28,
   "id": "b9299e67",
   "metadata": {},
   "outputs": [
    {
     "data": {
      "text/html": [
       "<div>\n",
       "<style scoped>\n",
       "    .dataframe tbody tr th:only-of-type {\n",
       "        vertical-align: middle;\n",
       "    }\n",
       "\n",
       "    .dataframe tbody tr th {\n",
       "        vertical-align: top;\n",
       "    }\n",
       "\n",
       "    .dataframe thead th {\n",
       "        text-align: right;\n",
       "    }\n",
       "</style>\n",
       "<table border=\"1\" class=\"dataframe\">\n",
       "  <thead>\n",
       "    <tr style=\"text-align: right;\">\n",
       "      <th>Позиция глагола по отношению к ГС</th>\n",
       "      <th>постпозиция</th>\n",
       "      <th>препозиция</th>\n",
       "    </tr>\n",
       "    <tr>\n",
       "      <th>Ошибка</th>\n",
       "      <th></th>\n",
       "      <th></th>\n",
       "    </tr>\n",
       "  </thead>\n",
       "  <tbody>\n",
       "    <tr>\n",
       "      <th>есть</th>\n",
       "      <td>33</td>\n",
       "      <td>9</td>\n",
       "    </tr>\n",
       "    <tr>\n",
       "      <th>нет</th>\n",
       "      <td>89</td>\n",
       "      <td>29</td>\n",
       "    </tr>\n",
       "  </tbody>\n",
       "</table>\n",
       "</div>"
      ],
      "text/plain": [
       "Позиция глагола по отношению к ГС  постпозиция  препозиция\n",
       "Ошибка                                                    \n",
       "есть                                        33           9\n",
       "нет                                         89          29"
      ]
     },
     "execution_count": 28,
     "metadata": {},
     "output_type": "execute_result"
    }
   ],
   "source": [
    "# Распределение ошибок среди финитных форм\n",
    "position_fin = fin.groupby('Позиция глагола по отношению к ГС')['Ошибка'].value_counts().unstack().drop(index='-').T\n",
    "position_fin"
   ]
  },
  {
   "cell_type": "code",
   "execution_count": 29,
   "id": "cbf160f6",
   "metadata": {},
   "outputs": [
    {
     "data": {
      "text/plain": [
       "Chi2ContingencyResult(statistic=0.1694706340733746, pvalue=0.6805827010041892, dof=1, expected_freq=array([[32.025,  9.975],\n",
       "       [89.975, 28.025]]))"
      ]
     },
     "execution_count": 29,
     "metadata": {},
     "output_type": "execute_result"
    }
   ],
   "source": [
    "scipy.stats.chi2_contingency(position_fin, correction = False)"
   ]
  },
  {
   "cell_type": "markdown",
   "id": "75a46b2a",
   "metadata": {},
   "source": [
    "#### Проверка гипотезы №7: Ненулевое расстояние между главным словом и глагольной формой провоцирует больше ошибок. "
   ]
  },
  {
   "cell_type": "code",
   "execution_count": 30,
   "id": "8f0ae918",
   "metadata": {},
   "outputs": [
    {
     "data": {
      "text/html": [
       "<div>\n",
       "<style scoped>\n",
       "    .dataframe tbody tr th:only-of-type {\n",
       "        vertical-align: middle;\n",
       "    }\n",
       "\n",
       "    .dataframe tbody tr th {\n",
       "        vertical-align: top;\n",
       "    }\n",
       "\n",
       "    .dataframe thead th {\n",
       "        text-align: right;\n",
       "    }\n",
       "</style>\n",
       "<table border=\"1\" class=\"dataframe\">\n",
       "  <thead>\n",
       "    <tr style=\"text-align: right;\">\n",
       "      <th>Расстояние между глаголом и ГС</th>\n",
       "      <th>0</th>\n",
       "      <th>1</th>\n",
       "      <th>10</th>\n",
       "      <th>11</th>\n",
       "      <th>12</th>\n",
       "      <th>13</th>\n",
       "      <th>2</th>\n",
       "      <th>3</th>\n",
       "      <th>4</th>\n",
       "      <th>5</th>\n",
       "      <th>6</th>\n",
       "      <th>7</th>\n",
       "      <th>8</th>\n",
       "      <th>9</th>\n",
       "    </tr>\n",
       "    <tr>\n",
       "      <th>Ошибка</th>\n",
       "      <th></th>\n",
       "      <th></th>\n",
       "      <th></th>\n",
       "      <th></th>\n",
       "      <th></th>\n",
       "      <th></th>\n",
       "      <th></th>\n",
       "      <th></th>\n",
       "      <th></th>\n",
       "      <th></th>\n",
       "      <th></th>\n",
       "      <th></th>\n",
       "      <th></th>\n",
       "      <th></th>\n",
       "    </tr>\n",
       "  </thead>\n",
       "  <tbody>\n",
       "    <tr>\n",
       "      <th>есть</th>\n",
       "      <td>38.0</td>\n",
       "      <td>7.0</td>\n",
       "      <td>0.0</td>\n",
       "      <td>0.0</td>\n",
       "      <td>0.0</td>\n",
       "      <td>0.0</td>\n",
       "      <td>3.0</td>\n",
       "      <td>1.0</td>\n",
       "      <td>1.0</td>\n",
       "      <td>1.0</td>\n",
       "      <td>0.0</td>\n",
       "      <td>0.0</td>\n",
       "      <td>0.0</td>\n",
       "      <td>0.0</td>\n",
       "    </tr>\n",
       "    <tr>\n",
       "      <th>нет</th>\n",
       "      <td>131.0</td>\n",
       "      <td>28.0</td>\n",
       "      <td>1.0</td>\n",
       "      <td>1.0</td>\n",
       "      <td>1.0</td>\n",
       "      <td>1.0</td>\n",
       "      <td>10.0</td>\n",
       "      <td>10.0</td>\n",
       "      <td>10.0</td>\n",
       "      <td>6.0</td>\n",
       "      <td>5.0</td>\n",
       "      <td>2.0</td>\n",
       "      <td>1.0</td>\n",
       "      <td>2.0</td>\n",
       "    </tr>\n",
       "  </tbody>\n",
       "</table>\n",
       "</div>"
      ],
      "text/plain": [
       "Расстояние между глаголом и ГС      0     1   10   11   12   13     2     3   \n",
       "Ошибка                                                                        \n",
       "есть                             38.0   7.0  0.0  0.0  0.0  0.0   3.0   1.0  \\\n",
       "нет                             131.0  28.0  1.0  1.0  1.0  1.0  10.0  10.0   \n",
       "\n",
       "Расстояние между глаголом и ГС     4    5    6    7    8    9  \n",
       "Ошибка                                                         \n",
       "есть                             1.0  1.0  0.0  0.0  0.0  0.0  \n",
       "нет                             10.0  6.0  5.0  2.0  1.0  2.0  "
      ]
     },
     "execution_count": 30,
     "metadata": {},
     "output_type": "execute_result"
    }
   ],
   "source": [
    "# Распределение расстояний у инфинитивов\n",
    "distance_infin = infin.groupby('Расстояние между глаголом и ГС')['Ошибка'].value_counts().unstack().fillna(0.0).drop(index='-').T\n",
    "distance_infin"
   ]
  },
  {
   "cell_type": "code",
   "execution_count": 31,
   "id": "d9cbbe87",
   "metadata": {},
   "outputs": [
    {
     "data": {
      "text/html": [
       "<div>\n",
       "<style scoped>\n",
       "    .dataframe tbody tr th:only-of-type {\n",
       "        vertical-align: middle;\n",
       "    }\n",
       "\n",
       "    .dataframe tbody tr th {\n",
       "        vertical-align: top;\n",
       "    }\n",
       "\n",
       "    .dataframe thead th {\n",
       "        text-align: right;\n",
       "    }\n",
       "</style>\n",
       "<table border=\"1\" class=\"dataframe\">\n",
       "  <thead>\n",
       "    <tr style=\"text-align: right;\">\n",
       "      <th></th>\n",
       "      <th>Расстояние 0</th>\n",
       "      <th>Расстояние от 1 до 5</th>\n",
       "      <th>Расстояние больше 5</th>\n",
       "    </tr>\n",
       "  </thead>\n",
       "  <tbody>\n",
       "    <tr>\n",
       "      <th>Ошибка есть</th>\n",
       "      <td>38</td>\n",
       "      <td>13</td>\n",
       "      <td>0</td>\n",
       "    </tr>\n",
       "    <tr>\n",
       "      <th>Ошибки нет</th>\n",
       "      <td>131</td>\n",
       "      <td>64</td>\n",
       "      <td>14</td>\n",
       "    </tr>\n",
       "  </tbody>\n",
       "</table>\n",
       "</div>"
      ],
      "text/plain": [
       "             Расстояние 0  Расстояние от 1 до 5  Расстояние больше 5\n",
       "Ошибка есть            38                    13                    0\n",
       "Ошибки нет            131                    64                   14"
      ]
     },
     "execution_count": 31,
     "metadata": {},
     "output_type": "execute_result"
    }
   ],
   "source": [
    "# Перегруппировка расстояний\n",
    "\n",
    "distance_infin_yes_error_1_5 = 7 + 3 + 1 + 1 + 1\n",
    "distance_infin_yes_error_more_5 = 0\n",
    "distance_infin_no_error_1_5 = 28 + 10 + 10 + 10 + 6\n",
    "distance_infin_no_error_more_5 = 5 + 2 + 1 + 2 + 1 + 1 + 1 + 1\n",
    "\n",
    "distance_infin = {'Расстояние 0': [38, 131],\n",
    "        'Расстояние от 1 до 5': [distance_infin_yes_error_1_5, distance_infin_no_error_1_5],\n",
    "        'Расстояние больше 5': [distance_infin_yes_error_more_5, distance_infin_no_error_more_5]\n",
    "        }\n",
    "\n",
    "distance_infin = pd.DataFrame(distance_infin, index=['Ошибка есть', 'Ошибки нет'])\n",
    "\n",
    "distance_infin"
   ]
  },
  {
   "cell_type": "code",
   "execution_count": 32,
   "id": "ef055e9e",
   "metadata": {},
   "outputs": [
    {
     "data": {
      "text/plain": [
       "Chi2ContingencyResult(statistic=4.663554852127889, pvalue=0.09712296469220157, dof=2, expected_freq=array([[ 33.15      ,  15.10384615,   2.74615385],\n",
       "       [135.85      ,  61.89615385,  11.25384615]]))"
      ]
     },
     "execution_count": 32,
     "metadata": {},
     "output_type": "execute_result"
    }
   ],
   "source": [
    "scipy.stats.chi2_contingency(distance_infin, correction = False)"
   ]
  },
  {
   "cell_type": "code",
   "execution_count": 33,
   "id": "66c20844",
   "metadata": {},
   "outputs": [
    {
     "data": {
      "text/html": [
       "<div>\n",
       "<style scoped>\n",
       "    .dataframe tbody tr th:only-of-type {\n",
       "        vertical-align: middle;\n",
       "    }\n",
       "\n",
       "    .dataframe tbody tr th {\n",
       "        vertical-align: top;\n",
       "    }\n",
       "\n",
       "    .dataframe thead th {\n",
       "        text-align: right;\n",
       "    }\n",
       "</style>\n",
       "<table border=\"1\" class=\"dataframe\">\n",
       "  <thead>\n",
       "    <tr style=\"text-align: right;\">\n",
       "      <th>Расстояние между глаголом и ГС</th>\n",
       "      <th>0</th>\n",
       "      <th>1</th>\n",
       "      <th>10</th>\n",
       "      <th>11</th>\n",
       "      <th>12</th>\n",
       "      <th>19</th>\n",
       "      <th>2</th>\n",
       "      <th>3</th>\n",
       "      <th>4</th>\n",
       "      <th>5</th>\n",
       "      <th>6</th>\n",
       "      <th>7</th>\n",
       "    </tr>\n",
       "    <tr>\n",
       "      <th>Ошибка</th>\n",
       "      <th></th>\n",
       "      <th></th>\n",
       "      <th></th>\n",
       "      <th></th>\n",
       "      <th></th>\n",
       "      <th></th>\n",
       "      <th></th>\n",
       "      <th></th>\n",
       "      <th></th>\n",
       "      <th></th>\n",
       "      <th></th>\n",
       "      <th></th>\n",
       "    </tr>\n",
       "  </thead>\n",
       "  <tbody>\n",
       "    <tr>\n",
       "      <th>есть</th>\n",
       "      <td>29.0</td>\n",
       "      <td>6.0</td>\n",
       "      <td>1.0</td>\n",
       "      <td>0.0</td>\n",
       "      <td>1.0</td>\n",
       "      <td>0.0</td>\n",
       "      <td>3.0</td>\n",
       "      <td>2.0</td>\n",
       "      <td>0.0</td>\n",
       "      <td>0.0</td>\n",
       "      <td>0.0</td>\n",
       "      <td>0.0</td>\n",
       "    </tr>\n",
       "    <tr>\n",
       "      <th>нет</th>\n",
       "      <td>49.0</td>\n",
       "      <td>31.0</td>\n",
       "      <td>0.0</td>\n",
       "      <td>1.0</td>\n",
       "      <td>2.0</td>\n",
       "      <td>1.0</td>\n",
       "      <td>13.0</td>\n",
       "      <td>9.0</td>\n",
       "      <td>3.0</td>\n",
       "      <td>4.0</td>\n",
       "      <td>1.0</td>\n",
       "      <td>4.0</td>\n",
       "    </tr>\n",
       "  </tbody>\n",
       "</table>\n",
       "</div>"
      ],
      "text/plain": [
       "Расстояние между глаголом и ГС     0     1   10   11   12   19     2    3   \n",
       "Ошибка                                                                      \n",
       "есть                            29.0   6.0  1.0  0.0  1.0  0.0   3.0  2.0  \\\n",
       "нет                             49.0  31.0  0.0  1.0  2.0  1.0  13.0  9.0   \n",
       "\n",
       "Расстояние между глаголом и ГС    4    5    6    7  \n",
       "Ошибка                                              \n",
       "есть                            0.0  0.0  0.0  0.0  \n",
       "нет                             3.0  4.0  1.0  4.0  "
      ]
     },
     "execution_count": 33,
     "metadata": {},
     "output_type": "execute_result"
    }
   ],
   "source": [
    "# Распределение расстояний у финитных форм\n",
    "distance_fin = fin.groupby('Расстояние между глаголом и ГС')['Ошибка'].value_counts().unstack().fillna(0.0).drop(index='-').T\n",
    "distance_fin"
   ]
  },
  {
   "cell_type": "code",
   "execution_count": 34,
   "id": "3e3d0eeb",
   "metadata": {},
   "outputs": [
    {
     "data": {
      "text/html": [
       "<div>\n",
       "<style scoped>\n",
       "    .dataframe tbody tr th:only-of-type {\n",
       "        vertical-align: middle;\n",
       "    }\n",
       "\n",
       "    .dataframe tbody tr th {\n",
       "        vertical-align: top;\n",
       "    }\n",
       "\n",
       "    .dataframe thead th {\n",
       "        text-align: right;\n",
       "    }\n",
       "</style>\n",
       "<table border=\"1\" class=\"dataframe\">\n",
       "  <thead>\n",
       "    <tr style=\"text-align: right;\">\n",
       "      <th></th>\n",
       "      <th>Расстояние 0</th>\n",
       "      <th>Расстояние от 1 до 5</th>\n",
       "      <th>Расстояние больше 5</th>\n",
       "    </tr>\n",
       "  </thead>\n",
       "  <tbody>\n",
       "    <tr>\n",
       "      <th>Ошибка есть</th>\n",
       "      <td>29</td>\n",
       "      <td>11</td>\n",
       "      <td>2</td>\n",
       "    </tr>\n",
       "    <tr>\n",
       "      <th>Ошибки нет</th>\n",
       "      <td>49</td>\n",
       "      <td>60</td>\n",
       "      <td>9</td>\n",
       "    </tr>\n",
       "  </tbody>\n",
       "</table>\n",
       "</div>"
      ],
      "text/plain": [
       "             Расстояние 0  Расстояние от 1 до 5  Расстояние больше 5\n",
       "Ошибка есть            29                    11                    2\n",
       "Ошибки нет             49                    60                    9"
      ]
     },
     "execution_count": 34,
     "metadata": {},
     "output_type": "execute_result"
    }
   ],
   "source": [
    "# Перегруппировка расстояний\n",
    "distance_fin_yes_error_1_5 = 6 + 3 + 2 + 0 + 0\n",
    "distance_fin_yes_error_more_5 = 1 + 1\n",
    "distance_fin_no_error_1_5 = 31 + 13 + 9 + 3 + 4\n",
    "distance_fin_no_error_more_5 = 1 + 4 + 1 + 2 + 1\n",
    "\n",
    "distance_fin = {'Расстояние 0': [29, 49],\n",
    "        'Расстояние от 1 до 5': [distance_fin_yes_error_1_5, distance_fin_no_error_1_5],\n",
    "        'Расстояние больше 5': [distance_fin_yes_error_more_5, distance_fin_no_error_more_5]\n",
    "        }\n",
    "\n",
    "distance_fin = pd.DataFrame(distance_fin, index=['Ошибка есть', 'Ошибки нет'])\n",
    "\n",
    "distance_fin"
   ]
  },
  {
   "cell_type": "code",
   "execution_count": 35,
   "id": "85999ec0",
   "metadata": {},
   "outputs": [
    {
     "data": {
      "text/plain": [
       "Chi2ContingencyResult(statistic=9.426507817531927, pvalue=0.00897552447700441, dof=2, expected_freq=array([[20.475 , 18.6375,  2.8875],\n",
       "       [57.525 , 52.3625,  8.1125]]))"
      ]
     },
     "execution_count": 35,
     "metadata": {},
     "output_type": "execute_result"
    }
   ],
   "source": [
    "scipy.stats.chi2_contingency(distance_fin, correction = False)"
   ]
  },
  {
   "cell_type": "markdown",
   "id": "afdbddeb",
   "metadata": {},
   "source": [
    "#### Проверка гипотезы №8: Синтаксическая роль главного слова при глаголе влияет на вероятность ошибки в нём."
   ]
  },
  {
   "cell_type": "code",
   "execution_count": 36,
   "id": "b4fe6572",
   "metadata": {},
   "outputs": [
    {
     "data": {
      "text/html": [
       "<div>\n",
       "<style scoped>\n",
       "    .dataframe tbody tr th:only-of-type {\n",
       "        vertical-align: middle;\n",
       "    }\n",
       "\n",
       "    .dataframe tbody tr th {\n",
       "        vertical-align: top;\n",
       "    }\n",
       "\n",
       "    .dataframe thead th {\n",
       "        text-align: right;\n",
       "    }\n",
       "</style>\n",
       "<table border=\"1\" class=\"dataframe\">\n",
       "  <thead>\n",
       "    <tr style=\"text-align: right;\">\n",
       "      <th>Синтаксическая роль ГС в предложении</th>\n",
       "      <th>подлежащее</th>\n",
       "      <th>сказуемое (инфинитив)</th>\n",
       "      <th>сказуемое (финитный глагол)</th>\n",
       "    </tr>\n",
       "    <tr>\n",
       "      <th>Ошибка</th>\n",
       "      <th></th>\n",
       "      <th></th>\n",
       "      <th></th>\n",
       "    </tr>\n",
       "  </thead>\n",
       "  <tbody>\n",
       "    <tr>\n",
       "      <th>есть</th>\n",
       "      <td>36.0</td>\n",
       "      <td>0.0</td>\n",
       "      <td>0.0</td>\n",
       "    </tr>\n",
       "    <tr>\n",
       "      <th>нет</th>\n",
       "      <td>104.0</td>\n",
       "      <td>1.0</td>\n",
       "      <td>2.0</td>\n",
       "    </tr>\n",
       "  </tbody>\n",
       "</table>\n",
       "</div>"
      ],
      "text/plain": [
       "Синтаксическая роль ГС в предложении  подлежащее  сказуемое (инфинитив)   \n",
       "Ошибка                                                                    \n",
       "есть                                        36.0                    0.0  \\\n",
       "нет                                        104.0                    1.0   \n",
       "\n",
       "Синтаксическая роль ГС в предложении  сказуемое (финитный глагол)  \n",
       "Ошибка                                                             \n",
       "есть                                                          0.0  \n",
       "нет                                                           2.0  "
      ]
     },
     "execution_count": 36,
     "metadata": {},
     "output_type": "execute_result"
    }
   ],
   "source": [
    "# Для финитных форм\n",
    "synt_role_fin = fin.groupby('Синтаксическая роль ГС в предложении')['Ошибка'].value_counts().unstack().fillna(0.0).drop(index='-').T\n",
    "synt_role_fin"
   ]
  },
  {
   "cell_type": "code",
   "execution_count": 37,
   "id": "09ccd30d",
   "metadata": {},
   "outputs": [
    {
     "data": {
      "text/html": [
       "<div>\n",
       "<style scoped>\n",
       "    .dataframe tbody tr th:only-of-type {\n",
       "        vertical-align: middle;\n",
       "    }\n",
       "\n",
       "    .dataframe tbody tr th {\n",
       "        vertical-align: top;\n",
       "    }\n",
       "\n",
       "    .dataframe thead th {\n",
       "        text-align: right;\n",
       "    }\n",
       "</style>\n",
       "<table border=\"1\" class=\"dataframe\">\n",
       "  <thead>\n",
       "    <tr style=\"text-align: right;\">\n",
       "      <th></th>\n",
       "      <th>Подлежащее</th>\n",
       "      <th>Другой синтаксический актант</th>\n",
       "    </tr>\n",
       "  </thead>\n",
       "  <tbody>\n",
       "    <tr>\n",
       "      <th>Ошибка есть</th>\n",
       "      <td>36</td>\n",
       "      <td>0</td>\n",
       "    </tr>\n",
       "    <tr>\n",
       "      <th>Ошибки нет</th>\n",
       "      <td>104</td>\n",
       "      <td>3</td>\n",
       "    </tr>\n",
       "  </tbody>\n",
       "</table>\n",
       "</div>"
      ],
      "text/plain": [
       "             Подлежащее  Другой синтаксический актант\n",
       "Ошибка есть          36                             0\n",
       "Ошибки нет          104                             3"
      ]
     },
     "execution_count": 37,
     "metadata": {},
     "output_type": "execute_result"
    }
   ],
   "source": [
    "# Перегруппировка синтаксических ролей\n",
    "synt_role_fin_yes_error_other = 0\n",
    "synt_role_fin_no_error_other = 3\n",
    "\n",
    "synt_role_fin = {'Подлежащее': [36, 104],\n",
    "        'Другой синтаксический актант': [synt_role_fin_yes_error_other, synt_role_fin_no_error_other],\n",
    "        }\n",
    "\n",
    "synt_role_fin = pd.DataFrame(synt_role_fin, index=['Ошибка есть', 'Ошибки нет'])\n",
    "\n",
    "synt_role_fin"
   ]
  },
  {
   "cell_type": "code",
   "execution_count": 38,
   "id": "cf027cd0",
   "metadata": {},
   "outputs": [
    {
     "data": {
      "text/plain": [
       "Chi2ContingencyResult(statistic=1.0309746328437919, pvalue=0.3099298643461197, dof=1, expected_freq=array([[ 35.24475524,   0.75524476],\n",
       "       [104.75524476,   2.24475524]]))"
      ]
     },
     "execution_count": 38,
     "metadata": {},
     "output_type": "execute_result"
    }
   ],
   "source": [
    "scipy.stats.chi2_contingency(synt_role_fin, correction = False)"
   ]
  },
  {
   "cell_type": "code",
   "execution_count": 39,
   "id": "c6f92e9d",
   "metadata": {},
   "outputs": [
    {
     "data": {
      "text/html": [
       "<div>\n",
       "<style scoped>\n",
       "    .dataframe tbody tr th:only-of-type {\n",
       "        vertical-align: middle;\n",
       "    }\n",
       "\n",
       "    .dataframe tbody tr th {\n",
       "        vertical-align: top;\n",
       "    }\n",
       "\n",
       "    .dataframe thead th {\n",
       "        text-align: right;\n",
       "    }\n",
       "</style>\n",
       "<table border=\"1\" class=\"dataframe\">\n",
       "  <thead>\n",
       "    <tr style=\"text-align: right;\">\n",
       "      <th>Синтаксическая роль ГС в предложении</th>\n",
       "      <th>дополнение</th>\n",
       "      <th>определение</th>\n",
       "      <th>подлежащее</th>\n",
       "      <th>сказуемое (именная часть)</th>\n",
       "      <th>сказуемое (инфинитив)</th>\n",
       "      <th>сказуемое (категория состояния)</th>\n",
       "      <th>сказуемое (финитный глагол)</th>\n",
       "    </tr>\n",
       "    <tr>\n",
       "      <th>Ошибка</th>\n",
       "      <th></th>\n",
       "      <th></th>\n",
       "      <th></th>\n",
       "      <th></th>\n",
       "      <th></th>\n",
       "      <th></th>\n",
       "      <th></th>\n",
       "    </tr>\n",
       "  </thead>\n",
       "  <tbody>\n",
       "    <tr>\n",
       "      <th>есть</th>\n",
       "      <td>2.0</td>\n",
       "      <td>0.0</td>\n",
       "      <td>1.0</td>\n",
       "      <td>1.0</td>\n",
       "      <td>1.0</td>\n",
       "      <td>8.0</td>\n",
       "      <td>38.0</td>\n",
       "    </tr>\n",
       "    <tr>\n",
       "      <th>нет</th>\n",
       "      <td>17.0</td>\n",
       "      <td>2.0</td>\n",
       "      <td>7.0</td>\n",
       "      <td>5.0</td>\n",
       "      <td>9.0</td>\n",
       "      <td>47.0</td>\n",
       "      <td>122.0</td>\n",
       "    </tr>\n",
       "  </tbody>\n",
       "</table>\n",
       "</div>"
      ],
      "text/plain": [
       "Синтаксическая роль ГС в предложении  дополнение  определение  подлежащее   \n",
       "Ошибка                                                                      \n",
       "есть                                         2.0          0.0         1.0  \\\n",
       "нет                                         17.0          2.0         7.0   \n",
       "\n",
       "Синтаксическая роль ГС в предложении  сказуемое (именная часть)   \n",
       "Ошибка                                                            \n",
       "есть                                                        1.0  \\\n",
       "нет                                                         5.0   \n",
       "\n",
       "Синтаксическая роль ГС в предложении  сказуемое (инфинитив)   \n",
       "Ошибка                                                        \n",
       "есть                                                    1.0  \\\n",
       "нет                                                     9.0   \n",
       "\n",
       "Синтаксическая роль ГС в предложении  сказуемое (категория состояния)   \n",
       "Ошибка                                                                  \n",
       "есть                                                              8.0  \\\n",
       "нет                                                              47.0   \n",
       "\n",
       "Синтаксическая роль ГС в предложении  сказуемое (финитный глагол)  \n",
       "Ошибка                                                             \n",
       "есть                                                         38.0  \n",
       "нет                                                         122.0  "
      ]
     },
     "execution_count": 39,
     "metadata": {},
     "output_type": "execute_result"
    }
   ],
   "source": [
    "# Для инфинитивов\n",
    "synt_role_infin = infin.groupby('Синтаксическая роль ГС в предложении')['Ошибка'].value_counts().unstack().fillna(0.0).drop(index='-').T\n",
    "synt_role_infin"
   ]
  },
  {
   "cell_type": "code",
   "execution_count": 40,
   "id": "0d1ed5fa",
   "metadata": {},
   "outputs": [
    {
     "data": {
      "text/html": [
       "<div>\n",
       "<style scoped>\n",
       "    .dataframe tbody tr th:only-of-type {\n",
       "        vertical-align: middle;\n",
       "    }\n",
       "\n",
       "    .dataframe tbody tr th {\n",
       "        vertical-align: top;\n",
       "    }\n",
       "\n",
       "    .dataframe thead th {\n",
       "        text-align: right;\n",
       "    }\n",
       "</style>\n",
       "<table border=\"1\" class=\"dataframe\">\n",
       "  <thead>\n",
       "    <tr style=\"text-align: right;\">\n",
       "      <th></th>\n",
       "      <th>Сказуемое</th>\n",
       "      <th>Другой синтаксический актант</th>\n",
       "    </tr>\n",
       "  </thead>\n",
       "  <tbody>\n",
       "    <tr>\n",
       "      <th>Ошибка есть</th>\n",
       "      <td>48</td>\n",
       "      <td>3</td>\n",
       "    </tr>\n",
       "    <tr>\n",
       "      <th>Ошибки нет</th>\n",
       "      <td>183</td>\n",
       "      <td>26</td>\n",
       "    </tr>\n",
       "  </tbody>\n",
       "</table>\n",
       "</div>"
      ],
      "text/plain": [
       "             Сказуемое  Другой синтаксический актант\n",
       "Ошибка есть         48                             3\n",
       "Ошибки нет         183                            26"
      ]
     },
     "execution_count": 40,
     "metadata": {},
     "output_type": "execute_result"
    }
   ],
   "source": [
    "# Перегруппировка синтаксических ролей\n",
    "synt_role_infin_yes_error_predic = 1 + 1 + 8 + 38\n",
    "synt_role_infin_no_error_predic = 5 + 9 + 47 + 122\n",
    "synt_role_infin_yes_error_other = 2 + 1\n",
    "synt_role_infin_no_error_other = 17 + 2 + 7\n",
    "\n",
    "synt_role_infin = {'Сказуемое': [synt_role_infin_yes_error_predic, synt_role_infin_no_error_predic],\n",
    "        'Другой синтаксический актант': [synt_role_infin_yes_error_other, synt_role_infin_no_error_other]\n",
    "        }\n",
    "\n",
    "synt_role_infin = pd.DataFrame(synt_role_infin, index=['Ошибка есть', 'Ошибки нет'])\n",
    "\n",
    "synt_role_infin"
   ]
  },
  {
   "cell_type": "code",
   "execution_count": 41,
   "id": "3a4ceaab",
   "metadata": {},
   "outputs": [
    {
     "data": {
      "text/plain": [
       "Chi2ContingencyResult(statistic=1.7791036859915028, pvalue=0.18225942715932153, dof=1, expected_freq=array([[ 45.31153846,   5.68846154],\n",
       "       [185.68846154,  23.31153846]]))"
      ]
     },
     "execution_count": 41,
     "metadata": {},
     "output_type": "execute_result"
    }
   ],
   "source": [
    "scipy.stats.chi2_contingency(synt_role_infin, correction = False)"
   ]
  },
  {
   "cell_type": "code",
   "execution_count": 42,
   "id": "b6467f54",
   "metadata": {},
   "outputs": [],
   "source": [
    "set1 = df[(df[\"Нужная форма\"] == \"финитная\") & (df[\"Омофоничность инфинитива и формы третьего лица\"] == \"нет\")]\n",
    "set1_res = set1[\"Ошибка\"].value_counts()"
   ]
  },
  {
   "cell_type": "code",
   "execution_count": 43,
   "id": "e35360cc",
   "metadata": {},
   "outputs": [],
   "source": [
    "set2 = df[(df[\"Нужная форма\"] == \"нефинитная\") & (df[\"Омофоничность инфинитива и формы третьего лица\"] == \"да\")]\n",
    "set2_res = set2[\"Ошибка\"].value_counts()"
   ]
  },
  {
   "cell_type": "code",
   "execution_count": 44,
   "id": "250bf5b4",
   "metadata": {},
   "outputs": [
    {
     "data": {
      "text/plain": [
       "Ошибка\n",
       "нет     196\n",
       "есть     60\n",
       "Name: count, dtype: int64"
      ]
     },
     "execution_count": 44,
     "metadata": {},
     "output_type": "execute_result"
    }
   ],
   "source": [
    "set1_res + set2_res"
   ]
  },
  {
   "cell_type": "markdown",
   "id": "05f9a39b",
   "metadata": {},
   "source": [
    "### Раздел обсуждения результатов и методологии"
   ]
  },
  {
   "cell_type": "code",
   "execution_count": 45,
   "id": "d9d91a7c",
   "metadata": {},
   "outputs": [
    {
     "data": {
      "text/html": [
       "<div>\n",
       "<style scoped>\n",
       "    .dataframe tbody tr th:only-of-type {\n",
       "        vertical-align: middle;\n",
       "    }\n",
       "\n",
       "    .dataframe tbody tr th {\n",
       "        vertical-align: top;\n",
       "    }\n",
       "\n",
       "    .dataframe thead th {\n",
       "        text-align: right;\n",
       "    }\n",
       "</style>\n",
       "<table border=\"1\" class=\"dataframe\">\n",
       "  <thead>\n",
       "    <tr style=\"text-align: right;\">\n",
       "      <th></th>\n",
       "      <th>count</th>\n",
       "    </tr>\n",
       "    <tr>\n",
       "      <th>Ошибка</th>\n",
       "      <th></th>\n",
       "    </tr>\n",
       "  </thead>\n",
       "  <tbody>\n",
       "    <tr>\n",
       "      <th>нет</th>\n",
       "      <td>130</td>\n",
       "    </tr>\n",
       "    <tr>\n",
       "      <th>есть</th>\n",
       "      <td>34</td>\n",
       "    </tr>\n",
       "  </tbody>\n",
       "</table>\n",
       "</div>"
      ],
      "text/plain": [
       "        count\n",
       "Ошибка       \n",
       "нет       130\n",
       "есть       34"
      ]
     },
     "execution_count": 45,
     "metadata": {},
     "output_type": "execute_result"
    }
   ],
   "source": [
    "# Финитные формы без омофонии\n",
    "set1 = df[(df[\"Нужная форма\"] == \"финитная\") & (df[\"Омофоничность инфинитива и формы третьего лица\"] == \"нет\")]\n",
    "s1 = pd.DataFrame(set1[\"Ошибка\"].value_counts())\n",
    "s1"
   ]
  },
  {
   "cell_type": "code",
   "execution_count": 46,
   "id": "f5ba80eb",
   "metadata": {},
   "outputs": [
    {
     "data": {
      "text/html": [
       "<div>\n",
       "<style scoped>\n",
       "    .dataframe tbody tr th:only-of-type {\n",
       "        vertical-align: middle;\n",
       "    }\n",
       "\n",
       "    .dataframe tbody tr th {\n",
       "        vertical-align: top;\n",
       "    }\n",
       "\n",
       "    .dataframe thead th {\n",
       "        text-align: right;\n",
       "    }\n",
       "</style>\n",
       "<table border=\"1\" class=\"dataframe\">\n",
       "  <thead>\n",
       "    <tr style=\"text-align: right;\">\n",
       "      <th></th>\n",
       "      <th>count</th>\n",
       "    </tr>\n",
       "    <tr>\n",
       "      <th>Ошибка</th>\n",
       "      <th></th>\n",
       "    </tr>\n",
       "  </thead>\n",
       "  <tbody>\n",
       "    <tr>\n",
       "      <th>нет</th>\n",
       "      <td>66</td>\n",
       "    </tr>\n",
       "    <tr>\n",
       "      <th>есть</th>\n",
       "      <td>26</td>\n",
       "    </tr>\n",
       "  </tbody>\n",
       "</table>\n",
       "</div>"
      ],
      "text/plain": [
       "        count\n",
       "Ошибка       \n",
       "нет        66\n",
       "есть       26"
      ]
     },
     "execution_count": 46,
     "metadata": {},
     "output_type": "execute_result"
    }
   ],
   "source": [
    "# Инфинитивы с омофонией\n",
    "set2 = df[(df[\"Нужная форма\"] == \"нефинитная\") & (df[\"Омофоничность инфинитива и формы третьего лица\"] == \"да\")]\n",
    "s2 = pd.DataFrame(set2[\"Ошибка\"].value_counts())\n",
    "s2"
   ]
  },
  {
   "cell_type": "code",
   "execution_count": 47,
   "id": "f4d8fcc9",
   "metadata": {},
   "outputs": [
    {
     "data": {
      "text/html": [
       "<div>\n",
       "<style scoped>\n",
       "    .dataframe tbody tr th:only-of-type {\n",
       "        vertical-align: middle;\n",
       "    }\n",
       "\n",
       "    .dataframe tbody tr th {\n",
       "        vertical-align: top;\n",
       "    }\n",
       "\n",
       "    .dataframe thead th {\n",
       "        text-align: right;\n",
       "    }\n",
       "</style>\n",
       "<table border=\"1\" class=\"dataframe\">\n",
       "  <thead>\n",
       "    <tr style=\"text-align: right;\">\n",
       "      <th></th>\n",
       "      <th>Финитная неомофоничная форма</th>\n",
       "      <th>Нефинитная омофоничная форма</th>\n",
       "    </tr>\n",
       "  </thead>\n",
       "  <tbody>\n",
       "    <tr>\n",
       "      <th>ошибки нет</th>\n",
       "      <td>130</td>\n",
       "      <td>66</td>\n",
       "    </tr>\n",
       "    <tr>\n",
       "      <th>ошибка есть</th>\n",
       "      <td>34</td>\n",
       "      <td>26</td>\n",
       "    </tr>\n",
       "  </tbody>\n",
       "</table>\n",
       "</div>"
      ],
      "text/plain": [
       "             Финитная неомофоничная форма  Нефинитная омофоничная форма\n",
       "ошибки нет                            130                            66\n",
       "ошибка есть                            34                            26"
      ]
     },
     "execution_count": 47,
     "metadata": {},
     "output_type": "execute_result"
    }
   ],
   "source": [
    "res1 = pd.DataFrame({\"Финитная неомофоничная форма\": s1[\"count\"].to_list(), \"Нефинитная омофоничная форма\": s2[\"count\"].to_list()}, index = [\"ошибки нет\", \"ошибка есть\"])\n",
    "res1"
   ]
  },
  {
   "cell_type": "code",
   "execution_count": 48,
   "id": "695765c9",
   "metadata": {},
   "outputs": [
    {
     "data": {
      "text/plain": [
       "Chi2ContingencyResult(statistic=1.8619054832961819, pvalue=0.17240504117981015, dof=1, expected_freq=array([[125.5625,  70.4375],\n",
       "       [ 38.4375,  21.5625]]))"
      ]
     },
     "execution_count": 48,
     "metadata": {},
     "output_type": "execute_result"
    }
   ],
   "source": [
    "scipy.stats.chi2_contingency(res1, correction = False)"
   ]
  },
  {
   "cell_type": "code",
   "execution_count": 49,
   "id": "7db89f24",
   "metadata": {},
   "outputs": [
    {
     "data": {
      "image/png": "[encoded data removed]",
      "text/plain": [
       "<Figure size 1100x600 with 2 Axes>"
      ]
     },
     "metadata": {},
     "output_type": "display_data"
    }
   ],
   "source": [
    "ax = res1.plot.pie(subplots=True, figsize=(11, 6), autopct='%1.1f%%', legend = True, title = \"Распределение ошибочных и безошибочных форм \\n между финитной неомофоничной формой и инфинитивной омофоничной формой\")\n",
    "fig = ax[0].get_figure()\n",
    "fig.savefig(\"res1.png\")"
   ]
  },
  {
   "cell_type": "code",
   "execution_count": 50,
   "id": "26137366",
   "metadata": {},
   "outputs": [
    {
     "data": {
      "text/html": [
       "<div>\n",
       "<style scoped>\n",
       "    .dataframe tbody tr th:only-of-type {\n",
       "        vertical-align: middle;\n",
       "    }\n",
       "\n",
       "    .dataframe tbody tr th {\n",
       "        vertical-align: top;\n",
       "    }\n",
       "\n",
       "    .dataframe thead th {\n",
       "        text-align: right;\n",
       "    }\n",
       "</style>\n",
       "<table border=\"1\" class=\"dataframe\">\n",
       "  <thead>\n",
       "    <tr style=\"text-align: right;\">\n",
       "      <th></th>\n",
       "      <th>count</th>\n",
       "    </tr>\n",
       "    <tr>\n",
       "      <th>Ошибка</th>\n",
       "      <th></th>\n",
       "    </tr>\n",
       "  </thead>\n",
       "  <tbody>\n",
       "    <tr>\n",
       "      <th>нет</th>\n",
       "      <td>115</td>\n",
       "    </tr>\n",
       "    <tr>\n",
       "      <th>есть</th>\n",
       "      <td>10</td>\n",
       "    </tr>\n",
       "  </tbody>\n",
       "</table>\n",
       "</div>"
      ],
      "text/plain": [
       "        count\n",
       "Ошибка       \n",
       "нет       115\n",
       "есть       10"
      ]
     },
     "execution_count": 50,
     "metadata": {},
     "output_type": "execute_result"
    }
   ],
   "source": [
    "# Финитные формы без омографии\n",
    "set3 = df[(df[\"Нужная форма\"] == \"финитная\") & (df[\"Омографичность инфинитива и формы третьего лица\"] == \"нет\")]\n",
    "s3 = pd.DataFrame(set3[\"Ошибка\"].value_counts())\n",
    "s3"
   ]
  },
  {
   "cell_type": "code",
   "execution_count": 51,
   "id": "8af58f77",
   "metadata": {},
   "outputs": [
    {
     "data": {
      "text/html": [
       "<div>\n",
       "<style scoped>\n",
       "    .dataframe tbody tr th:only-of-type {\n",
       "        vertical-align: middle;\n",
       "    }\n",
       "\n",
       "    .dataframe tbody tr th {\n",
       "        vertical-align: top;\n",
       "    }\n",
       "\n",
       "    .dataframe thead th {\n",
       "        text-align: right;\n",
       "    }\n",
       "</style>\n",
       "<table border=\"1\" class=\"dataframe\">\n",
       "  <thead>\n",
       "    <tr style=\"text-align: right;\">\n",
       "      <th></th>\n",
       "      <th>count</th>\n",
       "    </tr>\n",
       "    <tr>\n",
       "      <th>Ошибка</th>\n",
       "      <th></th>\n",
       "    </tr>\n",
       "  </thead>\n",
       "  <tbody>\n",
       "    <tr>\n",
       "      <th>нет</th>\n",
       "      <td>101</td>\n",
       "    </tr>\n",
       "    <tr>\n",
       "      <th>есть</th>\n",
       "      <td>43</td>\n",
       "    </tr>\n",
       "  </tbody>\n",
       "</table>\n",
       "</div>"
      ],
      "text/plain": [
       "        count\n",
       "Ошибка       \n",
       "нет       101\n",
       "есть       43"
      ]
     },
     "execution_count": 51,
     "metadata": {},
     "output_type": "execute_result"
    }
   ],
   "source": [
    "# Инфинитивы с омографией\n",
    "set4 = df[(df[\"Нужная форма\"] == \"нефинитная\") & (df[\"Омографичность инфинитива и формы третьего лица\"] == \"да\")]\n",
    "s4 = pd.DataFrame(set4[\"Ошибка\"].value_counts())\n",
    "s4"
   ]
  },
  {
   "cell_type": "code",
   "execution_count": 52,
   "id": "57c51a2a",
   "metadata": {},
   "outputs": [
    {
     "data": {
      "text/html": [
       "<div>\n",
       "<style scoped>\n",
       "    .dataframe tbody tr th:only-of-type {\n",
       "        vertical-align: middle;\n",
       "    }\n",
       "\n",
       "    .dataframe tbody tr th {\n",
       "        vertical-align: top;\n",
       "    }\n",
       "\n",
       "    .dataframe thead th {\n",
       "        text-align: right;\n",
       "    }\n",
       "</style>\n",
       "<table border=\"1\" class=\"dataframe\">\n",
       "  <thead>\n",
       "    <tr style=\"text-align: right;\">\n",
       "      <th></th>\n",
       "      <th>Финитная неомографичная форма</th>\n",
       "      <th>Нефинитная омографичная форма</th>\n",
       "    </tr>\n",
       "  </thead>\n",
       "  <tbody>\n",
       "    <tr>\n",
       "      <th>ошибки нет</th>\n",
       "      <td>115</td>\n",
       "      <td>101</td>\n",
       "    </tr>\n",
       "    <tr>\n",
       "      <th>ошибка есть</th>\n",
       "      <td>10</td>\n",
       "      <td>43</td>\n",
       "    </tr>\n",
       "  </tbody>\n",
       "</table>\n",
       "</div>"
      ],
      "text/plain": [
       "             Финитная неомографичная форма  Нефинитная омографичная форма\n",
       "ошибки нет                             115                            101\n",
       "ошибка есть                             10                             43"
      ]
     },
     "execution_count": 52,
     "metadata": {},
     "output_type": "execute_result"
    }
   ],
   "source": [
    "res2 = pd.DataFrame({\"Финитная неомографичная форма\": s3[\"count\"].to_list(), \"Нефинитная омографичная форма\": s4[\"count\"].to_list()}, index = [\"ошибки нет\", \"ошибка есть\"])\n",
    "res2"
   ]
  },
  {
   "cell_type": "code",
   "execution_count": 53,
   "id": "9c287195",
   "metadata": {},
   "outputs": [
    {
     "data": {
      "text/plain": [
       "Chi2ContingencyResult(statistic=20.213411973949842, pvalue=6.9265603045170855e-06, dof=1, expected_freq=array([[100.37174721, 115.62825279],\n",
       "       [ 24.62825279,  28.37174721]]))"
      ]
     },
     "execution_count": 53,
     "metadata": {},
     "output_type": "execute_result"
    }
   ],
   "source": [
    "scipy.stats.chi2_contingency(res2, correction = False)"
   ]
  },
  {
   "cell_type": "code",
   "execution_count": 54,
   "id": "cad69464",
   "metadata": {},
   "outputs": [
    {
     "data": {
      "image/png": "[encoded data removed]",
      "text/plain": [
       "<Figure size 1100x600 with 2 Axes>"
      ]
     },
     "metadata": {},
     "output_type": "display_data"
    }
   ],
   "source": [
    "ax = res2.plot.pie(subplots=True, figsize=(11, 6), autopct='%1.1f%%', legend = True, title = \"Распределение ошибочных и безошибочных форм \\n между финитной неомографичной формой и инфинитивной омографичной формой\")\n",
    "fig = ax[0].get_figure()\n",
    "fig.savefig(\"res2.png\")"
   ]
  }
 ],
 "metadata": {
  "kernelspec": {
   "display_name": "Python 3 (ipykernel)",
   "language": "python",
   "name": "python3"
  },
  "language_info": {
   "codemirror_mode": {
    "name": "ipython",
    "version": 3
   },
   "file_extension": ".py",
   "mimetype": "text/x-python",
   "name": "python",
   "nbconvert_exporter": "python",
   "pygments_lexer": "ipython3",
   "version": "3.11.2"
  }
 },
 "nbformat": 4,
 "nbformat_minor": 5
}
